{
  "nbformat": 4,
  "nbformat_minor": 0,
  "metadata": {
    "colab": {
      "provenance": [],
      "include_colab_link": true
    },
    "kernelspec": {
      "name": "python3",
      "display_name": "Python 3"
    },
    "language_info": {
      "name": "python"
    },
    "widgets": {
      "application/vnd.jupyter.widget-state+json": {
        "424216526b7348b9a0d1b429a82ccaaf": {
          "model_module": "@jupyter-widgets/controls",
          "model_name": "HBoxModel",
          "model_module_version": "1.5.0",
          "state": {
            "_dom_classes": [],
            "_model_module": "@jupyter-widgets/controls",
            "_model_module_version": "1.5.0",
            "_model_name": "HBoxModel",
            "_view_count": null,
            "_view_module": "@jupyter-widgets/controls",
            "_view_module_version": "1.5.0",
            "_view_name": "HBoxView",
            "box_style": "",
            "children": [
              "IPY_MODEL_cb2cd79456b444768a192a494d96361e",
              "IPY_MODEL_a5fe838fa57346d5b4a28e2718bf6252",
              "IPY_MODEL_ed80cd1e9f684b51a17768e9e6502b41"
            ],
            "layout": "IPY_MODEL_1c144223642341818edfd21bbd5b99ba"
          }
        },
        "cb2cd79456b444768a192a494d96361e": {
          "model_module": "@jupyter-widgets/controls",
          "model_name": "HTMLModel",
          "model_module_version": "1.5.0",
          "state": {
            "_dom_classes": [],
            "_model_module": "@jupyter-widgets/controls",
            "_model_module_version": "1.5.0",
            "_model_name": "HTMLModel",
            "_view_count": null,
            "_view_module": "@jupyter-widgets/controls",
            "_view_module_version": "1.5.0",
            "_view_name": "HTMLView",
            "description": "",
            "description_tooltip": null,
            "layout": "IPY_MODEL_b2d2307369f44434af00514e412d3926",
            "placeholder": "​",
            "style": "IPY_MODEL_34903d8f52df4cb4bd9dbdf5d30046ff",
            "value": "100%"
          }
        },
        "a5fe838fa57346d5b4a28e2718bf6252": {
          "model_module": "@jupyter-widgets/controls",
          "model_name": "FloatProgressModel",
          "model_module_version": "1.5.0",
          "state": {
            "_dom_classes": [],
            "_model_module": "@jupyter-widgets/controls",
            "_model_module_version": "1.5.0",
            "_model_name": "FloatProgressModel",
            "_view_count": null,
            "_view_module": "@jupyter-widgets/controls",
            "_view_module_version": "1.5.0",
            "_view_name": "ProgressView",
            "bar_style": "success",
            "description": "",
            "description_tooltip": null,
            "layout": "IPY_MODEL_110b9e2b147141fdaa7825ba9f292acb",
            "max": 38000,
            "min": 0,
            "orientation": "horizontal",
            "style": "IPY_MODEL_a1a6713d542d449eafcd80690ce287ff",
            "value": 38000
          }
        },
        "ed80cd1e9f684b51a17768e9e6502b41": {
          "model_module": "@jupyter-widgets/controls",
          "model_name": "HTMLModel",
          "model_module_version": "1.5.0",
          "state": {
            "_dom_classes": [],
            "_model_module": "@jupyter-widgets/controls",
            "_model_module_version": "1.5.0",
            "_model_name": "HTMLModel",
            "_view_count": null,
            "_view_module": "@jupyter-widgets/controls",
            "_view_module_version": "1.5.0",
            "_view_name": "HTMLView",
            "description": "",
            "description_tooltip": null,
            "layout": "IPY_MODEL_ae777326a5f147bb8b69a67867244a84",
            "placeholder": "​",
            "style": "IPY_MODEL_f4fe361179d24cb295760000d51bf513",
            "value": " 38000/38000 [01:54&lt;00:00, 342.95it/s]"
          }
        },
        "1c144223642341818edfd21bbd5b99ba": {
          "model_module": "@jupyter-widgets/base",
          "model_name": "LayoutModel",
          "model_module_version": "1.2.0",
          "state": {
            "_model_module": "@jupyter-widgets/base",
            "_model_module_version": "1.2.0",
            "_model_name": "LayoutModel",
            "_view_count": null,
            "_view_module": "@jupyter-widgets/base",
            "_view_module_version": "1.2.0",
            "_view_name": "LayoutView",
            "align_content": null,
            "align_items": null,
            "align_self": null,
            "border": null,
            "bottom": null,
            "display": null,
            "flex": null,
            "flex_flow": null,
            "grid_area": null,
            "grid_auto_columns": null,
            "grid_auto_flow": null,
            "grid_auto_rows": null,
            "grid_column": null,
            "grid_gap": null,
            "grid_row": null,
            "grid_template_areas": null,
            "grid_template_columns": null,
            "grid_template_rows": null,
            "height": null,
            "justify_content": null,
            "justify_items": null,
            "left": null,
            "margin": null,
            "max_height": null,
            "max_width": null,
            "min_height": null,
            "min_width": null,
            "object_fit": null,
            "object_position": null,
            "order": null,
            "overflow": null,
            "overflow_x": null,
            "overflow_y": null,
            "padding": null,
            "right": null,
            "top": null,
            "visibility": null,
            "width": null
          }
        },
        "b2d2307369f44434af00514e412d3926": {
          "model_module": "@jupyter-widgets/base",
          "model_name": "LayoutModel",
          "model_module_version": "1.2.0",
          "state": {
            "_model_module": "@jupyter-widgets/base",
            "_model_module_version": "1.2.0",
            "_model_name": "LayoutModel",
            "_view_count": null,
            "_view_module": "@jupyter-widgets/base",
            "_view_module_version": "1.2.0",
            "_view_name": "LayoutView",
            "align_content": null,
            "align_items": null,
            "align_self": null,
            "border": null,
            "bottom": null,
            "display": null,
            "flex": null,
            "flex_flow": null,
            "grid_area": null,
            "grid_auto_columns": null,
            "grid_auto_flow": null,
            "grid_auto_rows": null,
            "grid_column": null,
            "grid_gap": null,
            "grid_row": null,
            "grid_template_areas": null,
            "grid_template_columns": null,
            "grid_template_rows": null,
            "height": null,
            "justify_content": null,
            "justify_items": null,
            "left": null,
            "margin": null,
            "max_height": null,
            "max_width": null,
            "min_height": null,
            "min_width": null,
            "object_fit": null,
            "object_position": null,
            "order": null,
            "overflow": null,
            "overflow_x": null,
            "overflow_y": null,
            "padding": null,
            "right": null,
            "top": null,
            "visibility": null,
            "width": null
          }
        },
        "34903d8f52df4cb4bd9dbdf5d30046ff": {
          "model_module": "@jupyter-widgets/controls",
          "model_name": "DescriptionStyleModel",
          "model_module_version": "1.5.0",
          "state": {
            "_model_module": "@jupyter-widgets/controls",
            "_model_module_version": "1.5.0",
            "_model_name": "DescriptionStyleModel",
            "_view_count": null,
            "_view_module": "@jupyter-widgets/base",
            "_view_module_version": "1.2.0",
            "_view_name": "StyleView",
            "description_width": ""
          }
        },
        "110b9e2b147141fdaa7825ba9f292acb": {
          "model_module": "@jupyter-widgets/base",
          "model_name": "LayoutModel",
          "model_module_version": "1.2.0",
          "state": {
            "_model_module": "@jupyter-widgets/base",
            "_model_module_version": "1.2.0",
            "_model_name": "LayoutModel",
            "_view_count": null,
            "_view_module": "@jupyter-widgets/base",
            "_view_module_version": "1.2.0",
            "_view_name": "LayoutView",
            "align_content": null,
            "align_items": null,
            "align_self": null,
            "border": null,
            "bottom": null,
            "display": null,
            "flex": null,
            "flex_flow": null,
            "grid_area": null,
            "grid_auto_columns": null,
            "grid_auto_flow": null,
            "grid_auto_rows": null,
            "grid_column": null,
            "grid_gap": null,
            "grid_row": null,
            "grid_template_areas": null,
            "grid_template_columns": null,
            "grid_template_rows": null,
            "height": null,
            "justify_content": null,
            "justify_items": null,
            "left": null,
            "margin": null,
            "max_height": null,
            "max_width": null,
            "min_height": null,
            "min_width": null,
            "object_fit": null,
            "object_position": null,
            "order": null,
            "overflow": null,
            "overflow_x": null,
            "overflow_y": null,
            "padding": null,
            "right": null,
            "top": null,
            "visibility": null,
            "width": null
          }
        },
        "a1a6713d542d449eafcd80690ce287ff": {
          "model_module": "@jupyter-widgets/controls",
          "model_name": "ProgressStyleModel",
          "model_module_version": "1.5.0",
          "state": {
            "_model_module": "@jupyter-widgets/controls",
            "_model_module_version": "1.5.0",
            "_model_name": "ProgressStyleModel",
            "_view_count": null,
            "_view_module": "@jupyter-widgets/base",
            "_view_module_version": "1.2.0",
            "_view_name": "StyleView",
            "bar_color": null,
            "description_width": ""
          }
        },
        "ae777326a5f147bb8b69a67867244a84": {
          "model_module": "@jupyter-widgets/base",
          "model_name": "LayoutModel",
          "model_module_version": "1.2.0",
          "state": {
            "_model_module": "@jupyter-widgets/base",
            "_model_module_version": "1.2.0",
            "_model_name": "LayoutModel",
            "_view_count": null,
            "_view_module": "@jupyter-widgets/base",
            "_view_module_version": "1.2.0",
            "_view_name": "LayoutView",
            "align_content": null,
            "align_items": null,
            "align_self": null,
            "border": null,
            "bottom": null,
            "display": null,
            "flex": null,
            "flex_flow": null,
            "grid_area": null,
            "grid_auto_columns": null,
            "grid_auto_flow": null,
            "grid_auto_rows": null,
            "grid_column": null,
            "grid_gap": null,
            "grid_row": null,
            "grid_template_areas": null,
            "grid_template_columns": null,
            "grid_template_rows": null,
            "height": null,
            "justify_content": null,
            "justify_items": null,
            "left": null,
            "margin": null,
            "max_height": null,
            "max_width": null,
            "min_height": null,
            "min_width": null,
            "object_fit": null,
            "object_position": null,
            "order": null,
            "overflow": null,
            "overflow_x": null,
            "overflow_y": null,
            "padding": null,
            "right": null,
            "top": null,
            "visibility": null,
            "width": null
          }
        },
        "f4fe361179d24cb295760000d51bf513": {
          "model_module": "@jupyter-widgets/controls",
          "model_name": "DescriptionStyleModel",
          "model_module_version": "1.5.0",
          "state": {
            "_model_module": "@jupyter-widgets/controls",
            "_model_module_version": "1.5.0",
            "_model_name": "DescriptionStyleModel",
            "_view_count": null,
            "_view_module": "@jupyter-widgets/base",
            "_view_module_version": "1.2.0",
            "_view_name": "StyleView",
            "description_width": ""
          }
        },
        "ccbd4a4b48904b4e8850afbd17bc8120": {
          "model_module": "@jupyter-widgets/controls",
          "model_name": "HBoxModel",
          "model_module_version": "1.5.0",
          "state": {
            "_dom_classes": [],
            "_model_module": "@jupyter-widgets/controls",
            "_model_module_version": "1.5.0",
            "_model_name": "HBoxModel",
            "_view_count": null,
            "_view_module": "@jupyter-widgets/controls",
            "_view_module_version": "1.5.0",
            "_view_name": "HBoxView",
            "box_style": "",
            "children": [
              "IPY_MODEL_3373f6316fbc492cb2420d8b54a08b42",
              "IPY_MODEL_12a1214ec83c4d9294bfac2df013b2cf",
              "IPY_MODEL_0f91fd2951e94e18b2fc69215b3bca05"
            ],
            "layout": "IPY_MODEL_3a92db706af14ebaa7ad3a3c27d96a4c"
          }
        },
        "3373f6316fbc492cb2420d8b54a08b42": {
          "model_module": "@jupyter-widgets/controls",
          "model_name": "HTMLModel",
          "model_module_version": "1.5.0",
          "state": {
            "_dom_classes": [],
            "_model_module": "@jupyter-widgets/controls",
            "_model_module_version": "1.5.0",
            "_model_name": "HTMLModel",
            "_view_count": null,
            "_view_module": "@jupyter-widgets/controls",
            "_view_module_version": "1.5.0",
            "_view_name": "HTMLView",
            "description": "",
            "description_tooltip": null,
            "layout": "IPY_MODEL_587c8f617ca346109ff78da74e24799a",
            "placeholder": "​",
            "style": "IPY_MODEL_f0c1554740204e7bbddd0412d8b84b80",
            "value": "100%"
          }
        },
        "12a1214ec83c4d9294bfac2df013b2cf": {
          "model_module": "@jupyter-widgets/controls",
          "model_name": "FloatProgressModel",
          "model_module_version": "1.5.0",
          "state": {
            "_dom_classes": [],
            "_model_module": "@jupyter-widgets/controls",
            "_model_module_version": "1.5.0",
            "_model_name": "FloatProgressModel",
            "_view_count": null,
            "_view_module": "@jupyter-widgets/controls",
            "_view_module_version": "1.5.0",
            "_view_name": "ProgressView",
            "bar_style": "success",
            "description": "",
            "description_tooltip": null,
            "layout": "IPY_MODEL_81b900fd8e2f40aab470d800380f37cb",
            "max": 8000,
            "min": 0,
            "orientation": "horizontal",
            "style": "IPY_MODEL_99ea45f5bd38418b92e493cebe6f4338",
            "value": 8000
          }
        },
        "0f91fd2951e94e18b2fc69215b3bca05": {
          "model_module": "@jupyter-widgets/controls",
          "model_name": "HTMLModel",
          "model_module_version": "1.5.0",
          "state": {
            "_dom_classes": [],
            "_model_module": "@jupyter-widgets/controls",
            "_model_module_version": "1.5.0",
            "_model_name": "HTMLModel",
            "_view_count": null,
            "_view_module": "@jupyter-widgets/controls",
            "_view_module_version": "1.5.0",
            "_view_name": "HTMLView",
            "description": "",
            "description_tooltip": null,
            "layout": "IPY_MODEL_f7f57f2c0a2c4bc69693563a3a688a05",
            "placeholder": "​",
            "style": "IPY_MODEL_756d7bca3fe548098f33cf703869f08d",
            "value": " 8000/8000 [00:25&lt;00:00, 344.88it/s]"
          }
        },
        "3a92db706af14ebaa7ad3a3c27d96a4c": {
          "model_module": "@jupyter-widgets/base",
          "model_name": "LayoutModel",
          "model_module_version": "1.2.0",
          "state": {
            "_model_module": "@jupyter-widgets/base",
            "_model_module_version": "1.2.0",
            "_model_name": "LayoutModel",
            "_view_count": null,
            "_view_module": "@jupyter-widgets/base",
            "_view_module_version": "1.2.0",
            "_view_name": "LayoutView",
            "align_content": null,
            "align_items": null,
            "align_self": null,
            "border": null,
            "bottom": null,
            "display": null,
            "flex": null,
            "flex_flow": null,
            "grid_area": null,
            "grid_auto_columns": null,
            "grid_auto_flow": null,
            "grid_auto_rows": null,
            "grid_column": null,
            "grid_gap": null,
            "grid_row": null,
            "grid_template_areas": null,
            "grid_template_columns": null,
            "grid_template_rows": null,
            "height": null,
            "justify_content": null,
            "justify_items": null,
            "left": null,
            "margin": null,
            "max_height": null,
            "max_width": null,
            "min_height": null,
            "min_width": null,
            "object_fit": null,
            "object_position": null,
            "order": null,
            "overflow": null,
            "overflow_x": null,
            "overflow_y": null,
            "padding": null,
            "right": null,
            "top": null,
            "visibility": null,
            "width": null
          }
        },
        "587c8f617ca346109ff78da74e24799a": {
          "model_module": "@jupyter-widgets/base",
          "model_name": "LayoutModel",
          "model_module_version": "1.2.0",
          "state": {
            "_model_module": "@jupyter-widgets/base",
            "_model_module_version": "1.2.0",
            "_model_name": "LayoutModel",
            "_view_count": null,
            "_view_module": "@jupyter-widgets/base",
            "_view_module_version": "1.2.0",
            "_view_name": "LayoutView",
            "align_content": null,
            "align_items": null,
            "align_self": null,
            "border": null,
            "bottom": null,
            "display": null,
            "flex": null,
            "flex_flow": null,
            "grid_area": null,
            "grid_auto_columns": null,
            "grid_auto_flow": null,
            "grid_auto_rows": null,
            "grid_column": null,
            "grid_gap": null,
            "grid_row": null,
            "grid_template_areas": null,
            "grid_template_columns": null,
            "grid_template_rows": null,
            "height": null,
            "justify_content": null,
            "justify_items": null,
            "left": null,
            "margin": null,
            "max_height": null,
            "max_width": null,
            "min_height": null,
            "min_width": null,
            "object_fit": null,
            "object_position": null,
            "order": null,
            "overflow": null,
            "overflow_x": null,
            "overflow_y": null,
            "padding": null,
            "right": null,
            "top": null,
            "visibility": null,
            "width": null
          }
        },
        "f0c1554740204e7bbddd0412d8b84b80": {
          "model_module": "@jupyter-widgets/controls",
          "model_name": "DescriptionStyleModel",
          "model_module_version": "1.5.0",
          "state": {
            "_model_module": "@jupyter-widgets/controls",
            "_model_module_version": "1.5.0",
            "_model_name": "DescriptionStyleModel",
            "_view_count": null,
            "_view_module": "@jupyter-widgets/base",
            "_view_module_version": "1.2.0",
            "_view_name": "StyleView",
            "description_width": ""
          }
        },
        "81b900fd8e2f40aab470d800380f37cb": {
          "model_module": "@jupyter-widgets/base",
          "model_name": "LayoutModel",
          "model_module_version": "1.2.0",
          "state": {
            "_model_module": "@jupyter-widgets/base",
            "_model_module_version": "1.2.0",
            "_model_name": "LayoutModel",
            "_view_count": null,
            "_view_module": "@jupyter-widgets/base",
            "_view_module_version": "1.2.0",
            "_view_name": "LayoutView",
            "align_content": null,
            "align_items": null,
            "align_self": null,
            "border": null,
            "bottom": null,
            "display": null,
            "flex": null,
            "flex_flow": null,
            "grid_area": null,
            "grid_auto_columns": null,
            "grid_auto_flow": null,
            "grid_auto_rows": null,
            "grid_column": null,
            "grid_gap": null,
            "grid_row": null,
            "grid_template_areas": null,
            "grid_template_columns": null,
            "grid_template_rows": null,
            "height": null,
            "justify_content": null,
            "justify_items": null,
            "left": null,
            "margin": null,
            "max_height": null,
            "max_width": null,
            "min_height": null,
            "min_width": null,
            "object_fit": null,
            "object_position": null,
            "order": null,
            "overflow": null,
            "overflow_x": null,
            "overflow_y": null,
            "padding": null,
            "right": null,
            "top": null,
            "visibility": null,
            "width": null
          }
        },
        "99ea45f5bd38418b92e493cebe6f4338": {
          "model_module": "@jupyter-widgets/controls",
          "model_name": "ProgressStyleModel",
          "model_module_version": "1.5.0",
          "state": {
            "_model_module": "@jupyter-widgets/controls",
            "_model_module_version": "1.5.0",
            "_model_name": "ProgressStyleModel",
            "_view_count": null,
            "_view_module": "@jupyter-widgets/base",
            "_view_module_version": "1.2.0",
            "_view_name": "StyleView",
            "bar_color": null,
            "description_width": ""
          }
        },
        "f7f57f2c0a2c4bc69693563a3a688a05": {
          "model_module": "@jupyter-widgets/base",
          "model_name": "LayoutModel",
          "model_module_version": "1.2.0",
          "state": {
            "_model_module": "@jupyter-widgets/base",
            "_model_module_version": "1.2.0",
            "_model_name": "LayoutModel",
            "_view_count": null,
            "_view_module": "@jupyter-widgets/base",
            "_view_module_version": "1.2.0",
            "_view_name": "LayoutView",
            "align_content": null,
            "align_items": null,
            "align_self": null,
            "border": null,
            "bottom": null,
            "display": null,
            "flex": null,
            "flex_flow": null,
            "grid_area": null,
            "grid_auto_columns": null,
            "grid_auto_flow": null,
            "grid_auto_rows": null,
            "grid_column": null,
            "grid_gap": null,
            "grid_row": null,
            "grid_template_areas": null,
            "grid_template_columns": null,
            "grid_template_rows": null,
            "height": null,
            "justify_content": null,
            "justify_items": null,
            "left": null,
            "margin": null,
            "max_height": null,
            "max_width": null,
            "min_height": null,
            "min_width": null,
            "object_fit": null,
            "object_position": null,
            "order": null,
            "overflow": null,
            "overflow_x": null,
            "overflow_y": null,
            "padding": null,
            "right": null,
            "top": null,
            "visibility": null,
            "width": null
          }
        },
        "756d7bca3fe548098f33cf703869f08d": {
          "model_module": "@jupyter-widgets/controls",
          "model_name": "DescriptionStyleModel",
          "model_module_version": "1.5.0",
          "state": {
            "_model_module": "@jupyter-widgets/controls",
            "_model_module_version": "1.5.0",
            "_model_name": "DescriptionStyleModel",
            "_view_count": null,
            "_view_module": "@jupyter-widgets/base",
            "_view_module_version": "1.2.0",
            "_view_name": "StyleView",
            "description_width": ""
          }
        }
      }
    }
  },
  "cells": [
    {
      "cell_type": "markdown",
      "metadata": {
        "id": "view-in-github",
        "colab_type": "text"
      },
      "source": [
        "<a href=\"https://colab.research.google.com/github/Clarke-Jools-36/diss-gw/blob/testing/autoencoder_v1.ipynb\" target=\"_parent\"><img src=\"https://colab.research.google.com/assets/colab-badge.svg\" alt=\"Open In Colab\"/></a>"
      ]
    },
    {
      "cell_type": "markdown",
      "source": [
        "I am going to attempt to set up a simple autoencoder. First I need to create data on which to test and train the autoencoder. I will create gravitational wave sections 1 second long with 1024 samples. \n",
        "I will also create artefacts which are not gravitational waves. "
      ],
      "metadata": {
        "id": "9_-QryiBc6SY"
      }
    },
    {
      "cell_type": "code",
      "execution_count": 224,
      "metadata": {
        "id": "uShmlfeBcv6L"
      },
      "outputs": [],
      "source": [
        "import numpy as np\n",
        "from matplotlib import pyplot as plt"
      ]
    },
    {
      "cell_type": "code",
      "source": [
        "t = np.linspace(0,1,1024) #create an array of time between 0 and 1 second with 1024 samples\n",
        "a = np.zeros_like(t) #create an array of zeros to populate with amplitude values"
      ],
      "metadata": {
        "id": "yFKqjirfd9BZ"
      },
      "execution_count": 225,
      "outputs": []
    },
    {
      "cell_type": "code",
      "source": [
        "print(len(a))\n",
        "print(len(a)==len(t)) #idiot check early :)"
      ],
      "metadata": {
        "colab": {
          "base_uri": "https://localhost:8080/"
        },
        "id": "dlxSZd5vecGN",
        "outputId": "d0b61988-fb31-4986-f7e8-16baef1d05ab"
      },
      "execution_count": 226,
      "outputs": [
        {
          "output_type": "stream",
          "name": "stdout",
          "text": [
            "1024\n",
            "True\n"
          ]
        }
      ]
    },
    {
      "cell_type": "markdown",
      "source": [
        "Lets start with an artifact, a sin wave which has amplidue of a bell curve"
      ],
      "metadata": {
        "id": "RGvLvdJplLzS"
      }
    },
    {
      "cell_type": "code",
      "source": [
        "## SIN WAVE ##\n",
        "A = 0 #amplitude\n",
        "B = 0.01 #period\n",
        "C = 0 #phase shift (horizontal)\n",
        "D = 0 #amplitude shift (vertical)\n",
        "## BELL CURVE ##\n",
        "b = 0.03 #width of bell curve describing amplitude\n",
        "c = 0.5  #phase shift (horizontal) of bell curve\n",
        "\n",
        "for i,t_ in enumerate(t):\n",
        "  A = np.e**( -((t_-c)**2 / b) ) #setting amplidude to bell curve\n",
        "  #plt.plot(t_, A, \"x\")\n",
        "\n",
        "  a[i] = A * np.sin( (1/B) * (t_ - C) ) + D\n",
        "\n",
        "plt.plot(t,a)"
      ],
      "metadata": {
        "colab": {
          "base_uri": "https://localhost:8080/",
          "height": 283
        },
        "id": "5aZc1M0KefZ3",
        "outputId": "b5d192fc-f5cd-462c-8cf0-2be27c9d8f05"
      },
      "execution_count": 227,
      "outputs": [
        {
          "output_type": "execute_result",
          "data": {
            "text/plain": [
              "[<matplotlib.lines.Line2D at 0x7fb321d64190>]"
            ]
          },
          "metadata": {},
          "execution_count": 227
        },
        {
          "output_type": "display_data",
          "data": {
            "text/plain": [
              "<Figure size 432x288 with 1 Axes>"
            ],
            "image/png": "[encoded data removed]"
          },
          "metadata": {
            "needs_background": "light"
          }
        }
      ]
    },
    {
      "cell_type": "markdown",
      "source": [
        "We can also make the frequency of the sin wave lower at the tail ends. "
      ],
      "metadata": {
        "id": "Xl-vvlrCmLV_"
      }
    },
    {
      "cell_type": "code",
      "source": [
        "for i,t_ in enumerate(t):\n",
        "  A = np.e**( -((t_-c)**2 / b) ) #setting amplidude to bell curve\n",
        "  \n",
        "  B = -0.035 * (np.e**( -((t_-c)**2 / b) )) + 0.05 #setting freq to bell curve\n",
        "  #plt.plot(t_, B, \"x\")\n",
        "  a[i] = A * np.sin( (1/B) * (t_ - C) ) + D\n",
        "\n",
        "plt.plot(t,a)"
      ],
      "metadata": {
        "colab": {
          "base_uri": "https://localhost:8080/",
          "height": 283
        },
        "id": "Kie7s4lnmTnv",
        "outputId": "1e4a1848-d752-47e1-dd21-e9946823abbb"
      },
      "execution_count": 228,
      "outputs": [
        {
          "output_type": "execute_result",
          "data": {
            "text/plain": [
              "[<matplotlib.lines.Line2D at 0x7fb321cc9a50>]"
            ]
          },
          "metadata": {},
          "execution_count": 228
        },
        {
          "output_type": "display_data",
          "data": {
            "text/plain": [
              "<Figure size 432x288 with 1 Axes>"
            ],
            "image/png": "[encoded data removed]"
          },
          "metadata": {
            "needs_background": "light"
          }
        }
      ]
    },
    {
      "cell_type": "markdown",
      "source": [
        "Something funky is happening here, potentially because of the syncing with the sample rate?\n",
        "\n",
        "Lets move on to grav wave like signals. These are less symettrical\n",
        "\n"
      ],
      "metadata": {
        "id": "LWjcXFxlpYf5"
      }
    },
    {
      "cell_type": "code",
      "source": [
        "t = np.linspace(0,1,1024) #create an array of time between 0 and 1 second with 1024 samples\n",
        "a = np.zeros_like(t) #create an array of zeros to populate with amplitude values"
      ],
      "metadata": {
        "id": "ovtFzfuBpk7p"
      },
      "execution_count": 229,
      "outputs": []
    },
    {
      "cell_type": "code",
      "source": [
        "## SIN WAVE ##\n",
        "A = 0 #amplitude\n",
        "B = 0.01 #period\n",
        "C = 0 #phase shift (horizontal)\n",
        "D = 0 #amplitude shift (vertical)\n",
        "## POLYNOMIAL ##\n",
        "b = 2 #amplitude of amplitude polynomial\n",
        "c = 0.005 #amplitude of freq polynomial\n",
        "d = 5 #degree of polynomial\n",
        "for i,t_ in enumerate(t):\n",
        "  if 0<t_<0.8:\n",
        "    A = 2*t_**5 # amplitude increases with polynomial 5\n",
        "    B = 0.005/t_**5 #freq increases\n",
        "  else:\n",
        "    A = 0\n",
        "\n",
        "  a[i] = A * np.sin( (1/B) * (t_ - C) ) + D\n",
        "\n",
        "plt.plot(t,a)"
      ],
      "metadata": {
        "colab": {
          "base_uri": "https://localhost:8080/",
          "height": 283
        },
        "id": "MqC1Ugztppoz",
        "outputId": "de401d92-692f-48d8-aea1-003aa22ecddd"
      },
      "execution_count": 230,
      "outputs": [
        {
          "output_type": "execute_result",
          "data": {
            "text/plain": [
              "[<matplotlib.lines.Line2D at 0x7fb321c4c5d0>]"
            ]
          },
          "metadata": {},
          "execution_count": 230
        },
        {
          "output_type": "display_data",
          "data": {
            "text/plain": [
              "<Figure size 432x288 with 1 Axes>"
            ],
            "image/png": "[encoded data removed]"
          },
          "metadata": {
            "needs_background": "light"
          }
        }
      ]
    },
    {
      "cell_type": "markdown",
      "source": [
        "Lets make some functions, and save this data"
      ],
      "metadata": {
        "id": "cpOO0L8It6Vl"
      }
    },
    {
      "cell_type": "code",
      "source": [
        "def blip(seed = None):\n",
        "  if seed == None:\n",
        "    seed = np.random.randint(0,999999)\n",
        "  np.random.seed(seed)\n",
        "\n",
        "\n",
        "  t = np.linspace(0,1,1024) #create an array of time between 0 and 1 second with 1024 samples\n",
        "  a = np.zeros_like(t) #create an array of zeros to populate with amplitude values\n",
        "  A,B,C,D,b,c = 0,0.01,((np.random.rand()-0.5)),0,0.03 + (0.05*(np.random.rand()-0.5)),0.5 + (0.5*(np.random.rand()-0.5))\n",
        "\n",
        "  randomA = (0.5*(np.random.rand()-0.5)) #maximum amplitude\n",
        "\n",
        "  for i,t_ in enumerate(t):\n",
        "    A = randomA * np.e**( -((t_-c)**2 / b) ) #setting amplidude to bell curve\n",
        "    a[i] = A * np.sin( (1/B) * (t_ - C) ) + D\n",
        "\n",
        "  return {\"data\":{\"time\":t,\"amplitude\":a},\"seed\":seed}\n"
      ],
      "metadata": {
        "id": "mVIJSy7Qt5vg"
      },
      "execution_count": 231,
      "outputs": []
    },
    {
      "cell_type": "code",
      "source": [
        "def wave(seed = None):\n",
        "  if seed == None:\n",
        "    seed = np.random.randint(0,999999)\n",
        "  np.random.seed(seed)\n",
        "\n",
        "\n",
        "  t = np.linspace(0,1,1024) #create an array of time between 0 and 1 second with 1024 samples\n",
        "  a = np.zeros_like(t) #create an array of zeros to populate with amplitude values\n",
        "\n",
        "  A,B,C,D,b,c,d = 0,0.01,((np.random.rand()-0.5)),0,2 + ((np.random.rand()-0.5)),0.005 + (0.001*(np.random.rand()-0.5)),5\n",
        "\n",
        "  randomA = (0.5*(np.random.rand()-0.5)) #maximum amplitude\n",
        "\n",
        "  for i,t_ in enumerate(t):\n",
        "    if 0<t_<0.75+C/2:\n",
        "      A = randomA * 2*t_**5 # amplitude increases with polynomial 5\n",
        "      B = 0.005/t_**5 #freq increases\n",
        "    else:\n",
        "      A = 0\n",
        "\n",
        "    a[i] = A * np.sin( (1/B) * (t_ - C) ) + D\n",
        "\n",
        "  return {\"data\":{\"time\":t,\"amplitude\":a},\"seed\":seed}\n",
        "\n"
      ],
      "metadata": {
        "id": "NAXqkyNDxJju"
      },
      "execution_count": 232,
      "outputs": []
    },
    {
      "cell_type": "code",
      "source": [
        "blip_ = blip()\n",
        "plt.plot(blip_[\"data\"][\"time\"],blip_[\"data\"][\"amplitude\"], label = blip_[\"seed\"])\n",
        "blip_ = blip()\n",
        "plt.plot(blip_[\"data\"][\"time\"],blip_[\"data\"][\"amplitude\"], label = blip_[\"seed\"])\n",
        "blip_ = blip()\n",
        "plt.plot(blip_[\"data\"][\"time\"],blip_[\"data\"][\"amplitude\"], label = blip_[\"seed\"])\n",
        "\n",
        "plt.legend()"
      ],
      "metadata": {
        "colab": {
          "base_uri": "https://localhost:8080/",
          "height": 283
        },
        "id": "U1KsW-e62L5F",
        "outputId": "1aceac58-fc9d-44c0-c052-787baacc8839"
      },
      "execution_count": 233,
      "outputs": [
        {
          "output_type": "execute_result",
          "data": {
            "text/plain": [
              "<matplotlib.legend.Legend at 0x7fb321c5c910>"
            ]
          },
          "metadata": {},
          "execution_count": 233
        },
        {
          "output_type": "display_data",
          "data": {
            "text/plain": [
              "<Figure size 432x288 with 1 Axes>"
            ],
            "image/png": "[encoded data removed]"
          },
          "metadata": {
            "needs_background": "light"
          }
        }
      ]
    },
    {
      "cell_type": "code",
      "source": [
        "wave_ = wave()\n",
        "plt.plot(wave_[\"data\"][\"time\"],wave_[\"data\"][\"amplitude\"], label = wave_[\"seed\"])\n",
        "wave_ = wave()\n",
        "plt.plot(wave_[\"data\"][\"time\"],wave_[\"data\"][\"amplitude\"], label = wave_[\"seed\"])\n",
        "wave_ = wave()\n",
        "plt.plot(wave_[\"data\"][\"time\"],wave_[\"data\"][\"amplitude\"], label = wave_[\"seed\"])\n",
        "\n",
        "\n",
        "plt.legend()"
      ],
      "metadata": {
        "colab": {
          "base_uri": "https://localhost:8080/",
          "height": 285
        },
        "id": "NhXO4xw5xLg7",
        "outputId": "f22e5cbe-fc9e-4b4d-e942-f68d17260513"
      },
      "execution_count": 234,
      "outputs": [
        {
          "output_type": "execute_result",
          "data": {
            "text/plain": [
              "<matplotlib.legend.Legend at 0x7fb321be1a10>"
            ]
          },
          "metadata": {},
          "execution_count": 234
        },
        {
          "output_type": "display_data",
          "data": {
            "text/plain": [
              "<Figure size 432x288 with 1 Axes>"
            ],
            "image/png": "[encoded data removed]"
          },
          "metadata": {
            "needs_background": "light"
          }
        }
      ]
    },
    {
      "cell_type": "markdown",
      "source": [
        "lets generate some data"
      ],
      "metadata": {
        "id": "UzDygzRi-_v8"
      }
    },
    {
      "cell_type": "code",
      "source": [
        "x_train = np.zeros([38000,1024])\n",
        "x_test = np.zeros([8000,1024])\n",
        "\n",
        "print(f\"generating train data, expect {len(x_train)} vals\")\n",
        "for i, _ in tqdm(enumerate(x_train), total = len(x_train)):\n",
        "  x_train[i] = blip()[\"data\"][\"amplitude\"]\n",
        "\n",
        "print(f\"generating test data, expect {len(x_test)} vals\")\n",
        "for i, _ in tqdm(enumerate(x_test), total = len(x_test)):\n",
        "  x_test[i] = blip()[\"data\"][\"amplitude\"]"
      ],
      "metadata": {
        "colab": {
          "base_uri": "https://localhost:8080/",
          "height": 117,
          "referenced_widgets": [
            "424216526b7348b9a0d1b429a82ccaaf",
            "cb2cd79456b444768a192a494d96361e",
            "a5fe838fa57346d5b4a28e2718bf6252",
            "ed80cd1e9f684b51a17768e9e6502b41",
            "1c144223642341818edfd21bbd5b99ba",
            "b2d2307369f44434af00514e412d3926",
            "34903d8f52df4cb4bd9dbdf5d30046ff",
            "110b9e2b147141fdaa7825ba9f292acb",
            "a1a6713d542d449eafcd80690ce287ff",
            "ae777326a5f147bb8b69a67867244a84",
            "f4fe361179d24cb295760000d51bf513",
            "ccbd4a4b48904b4e8850afbd17bc8120",
            "3373f6316fbc492cb2420d8b54a08b42",
            "12a1214ec83c4d9294bfac2df013b2cf",
            "0f91fd2951e94e18b2fc69215b3bca05",
            "3a92db706af14ebaa7ad3a3c27d96a4c",
            "587c8f617ca346109ff78da74e24799a",
            "f0c1554740204e7bbddd0412d8b84b80",
            "81b900fd8e2f40aab470d800380f37cb",
            "99ea45f5bd38418b92e493cebe6f4338",
            "f7f57f2c0a2c4bc69693563a3a688a05",
            "756d7bca3fe548098f33cf703869f08d"
          ]
        },
        "id": "h0sKnKFl-_YG",
        "outputId": "0d413d67-7b3e-4742-9f89-0a3cfa7eefcc"
      },
      "execution_count": 240,
      "outputs": [
        {
          "output_type": "stream",
          "name": "stdout",
          "text": [
            "generating train data, expect 38000 vals\n"
          ]
        },
        {
          "output_type": "display_data",
          "data": {
            "text/plain": [
              "  0%|          | 0/38000 [00:00<?, ?it/s]"
            ],
            "application/vnd.jupyter.widget-view+json": {
              "version_major": 2,
              "version_minor": 0,
              "model_id": "424216526b7348b9a0d1b429a82ccaaf"
            }
          },
          "metadata": {}
        },
        {
          "output_type": "stream",
          "name": "stdout",
          "text": [
            "generating test data, expect 8000 vals\n"
          ]
        },
        {
          "output_type": "display_data",
          "data": {
            "text/plain": [
              "  0%|          | 0/8000 [00:00<?, ?it/s]"
            ],
            "application/vnd.jupyter.widget-view+json": {
              "version_major": 2,
              "version_minor": 0,
              "model_id": "ccbd4a4b48904b4e8850afbd17bc8120"
            }
          },
          "metadata": {}
        }
      ]
    },
    {
      "cell_type": "markdown",
      "source": [
        "Time to start thinking about the autoencoder"
      ],
      "metadata": {
        "id": "xRNwUb6E6VNB"
      }
    },
    {
      "cell_type": "code",
      "source": [
        "import keras\n",
        "from keras import layers\n",
        "\n",
        "# This is the size of our encoded representations\n",
        "encoding_dim = 32  # 32 floats -> compression of factor 24.5, assuming the input is 784 floats\n",
        "\n",
        "# This is our input image\n",
        "input_img = keras.Input(shape=(1024,)) \n",
        "# \"encoded\" is the encoded representation of the input\n",
        "encoded = layers.Dense(encoding_dim, activation='relu')(input_img)\n",
        "# \"decoded\" is the lossy reconstruction of the input\n",
        "decoded = layers.Dense(1024, activation='sigmoid')(encoded)  \n",
        "# This model maps an input to its reconstruction\n",
        "autoencoder = keras.Model(input_img, decoded)"
      ],
      "metadata": {
        "id": "XkBp5fue6YCY"
      },
      "execution_count": 272,
      "outputs": []
    },
    {
      "cell_type": "markdown",
      "source": [
        "Now we create an encoder model"
      ],
      "metadata": {
        "id": "of1NT-cK6ncn"
      }
    },
    {
      "cell_type": "code",
      "source": [
        "# This model maps an input to its encoded representation\n",
        "encoder = keras.Model(input_img, encoded)"
      ],
      "metadata": {
        "id": "a77m0cNy6jw7"
      },
      "execution_count": 264,
      "outputs": []
    },
    {
      "cell_type": "markdown",
      "source": [
        "and a decoder model"
      ],
      "metadata": {
        "id": "uC7SbmYt6tvt"
      }
    },
    {
      "cell_type": "code",
      "source": [
        "# This is our encoded (32-dimensional) input\n",
        "encoded_input = keras.Input(shape=(encoding_dim,))\n",
        "# Retrieve the last layer of the autoencoder model\n",
        "decoder_layer = autoencoder.layers[-1]\n",
        "# Create the decoder model\n",
        "decoder = keras.Model(encoded_input, decoder_layer(encoded_input))"
      ],
      "metadata": {
        "id": "AVqikLBm6vca"
      },
      "execution_count": 265,
      "outputs": []
    },
    {
      "cell_type": "markdown",
      "source": [
        "First, we'll configure our model to use a per-pixel binary crossentropy loss, and the Adam optimizer:"
      ],
      "metadata": {
        "id": "7SAIoL4k61Xu"
      }
    },
    {
      "cell_type": "code",
      "source": [
        "autoencoder.compile(optimizer='adam', loss='binary_crossentropy')"
      ],
      "metadata": {
        "id": "mhWLkrXd611A"
      },
      "execution_count": 266,
      "outputs": []
    },
    {
      "cell_type": "code",
      "source": [
        "from tqdm.notebook import tqdm #this puts loading bars onto for loops "
      ],
      "metadata": {
        "id": "4D51WwCmAPKi"
      },
      "execution_count": 267,
      "outputs": []
    },
    {
      "cell_type": "code",
      "source": [
        "x_train = x_train.astype('float32') / 255.\n",
        "x_test = x_test.astype('float32') / 255.\n",
        "print(x_train.shape)\n",
        "print(x_test.shape)"
      ],
      "metadata": {
        "colab": {
          "base_uri": "https://localhost:8080/"
        },
        "id": "tyUH6EmMBX5T",
        "outputId": "636c0a95-900b-4c16-b9b2-822d1397379f"
      },
      "execution_count": 268,
      "outputs": [
        {
          "output_type": "stream",
          "name": "stdout",
          "text": [
            "(38000, 1024)\n",
            "(8000, 1024)\n"
          ]
        }
      ]
    },
    {
      "cell_type": "markdown",
      "source": [
        "now lets train for 50 epochs"
      ],
      "metadata": {
        "id": "nhYkBWaG7c3a"
      }
    },
    {
      "cell_type": "code",
      "source": [
        "autoencoder.fit(x_train, x_train,\n",
        "                epochs=50,\n",
        "                batch_size=256,\n",
        "                shuffle=True,\n",
        "                validation_data=(x_test, x_test))"
      ],
      "metadata": {
        "colab": {
          "base_uri": "https://localhost:8080/"
        },
        "id": "7Iswgidz7bbO",
        "outputId": "603cb7e9-6f86-4e14-d2df-314b25cb6997"
      },
      "execution_count": 269,
      "outputs": [
        {
          "output_type": "stream",
          "name": "stdout",
          "text": [
            "Epoch 1/50\n",
            "149/149 [==============================] - 2s 13ms/step - loss: 0.4995 - val_loss: 0.2083\n",
            "Epoch 2/50\n",
            "149/149 [==============================] - 2s 13ms/step - loss: 0.0909 - val_loss: 0.0357\n",
            "Epoch 3/50\n",
            "149/149 [==============================] - 3s 19ms/step - loss: 0.0220 - val_loss: 0.0134\n",
            "Epoch 4/50\n",
            "149/149 [==============================] - 2s 14ms/step - loss: 0.0097 - val_loss: 0.0070\n",
            "Epoch 5/50\n",
            "149/149 [==============================] - 2s 15ms/step - loss: 0.0055 - val_loss: 0.0043\n",
            "Epoch 6/50\n",
            "149/149 [==============================] - 2s 12ms/step - loss: 0.0035 - val_loss: 0.0029\n",
            "Epoch 7/50\n",
            "149/149 [==============================] - 2s 12ms/step - loss: 0.0025 - val_loss: 0.0021\n",
            "Epoch 8/50\n",
            "149/149 [==============================] - 2s 11ms/step - loss: 0.0018 - val_loss: 0.0016\n",
            "Epoch 9/50\n",
            "149/149 [==============================] - 2s 12ms/step - loss: 0.0014 - val_loss: 0.0012\n",
            "Epoch 10/50\n",
            "149/149 [==============================] - 2s 14ms/step - loss: 0.0011 - val_loss: 9.7258e-04\n",
            "Epoch 11/50\n",
            "149/149 [==============================] - 2s 13ms/step - loss: 8.7778e-04 - val_loss: 7.9001e-04\n",
            "Epoch 12/50\n",
            "149/149 [==============================] - 2s 14ms/step - loss: 7.1868e-04 - val_loss: 6.5207e-04\n",
            "Epoch 13/50\n",
            "149/149 [==============================] - 2s 15ms/step - loss: 5.9709e-04 - val_loss: 5.4537e-04\n",
            "Epoch 14/50\n",
            "149/149 [==============================] - 2s 14ms/step - loss: 5.0212e-04 - val_loss: 4.6120e-04\n",
            "Epoch 15/50\n",
            "149/149 [==============================] - 2s 13ms/step - loss: 4.2659e-04 - val_loss: 3.9368e-04\n",
            "Epoch 16/50\n",
            "149/149 [==============================] - 2s 15ms/step - loss: 3.6558e-04 - val_loss: 3.3874e-04\n",
            "Epoch 17/50\n",
            "149/149 [==============================] - 2s 13ms/step - loss: 3.1565e-04 - val_loss: 2.9350e-04\n",
            "Epoch 18/50\n",
            "149/149 [==============================] - 2s 13ms/step - loss: 2.7431e-04 - val_loss: 2.5584e-04\n",
            "Epoch 19/50\n",
            "149/149 [==============================] - 2s 12ms/step - loss: 2.3973e-04 - val_loss: 2.2419e-04\n",
            "Epoch 20/50\n",
            "149/149 [==============================] - 2s 14ms/step - loss: 2.1056e-04 - val_loss: 1.9738e-04\n",
            "Epoch 21/50\n",
            "149/149 [==============================] - 2s 12ms/step - loss: 1.8576e-04 - val_loss: 1.7449e-04\n",
            "Epoch 22/50\n",
            "149/149 [==============================] - 2s 12ms/step - loss: 1.6452e-04 - val_loss: 1.5483e-04\n",
            "Epoch 23/50\n",
            "149/149 [==============================] - 2s 12ms/step - loss: 1.4622e-04 - val_loss: 1.3784e-04\n",
            "Epoch 24/50\n",
            "149/149 [==============================] - 2s 13ms/step - loss: 1.3037e-04 - val_loss: 1.2308e-04\n",
            "Epoch 25/50\n",
            "149/149 [==============================] - 2s 13ms/step - loss: 1.1656e-04 - val_loss: 1.1020e-04\n",
            "Epoch 26/50\n",
            "149/149 [==============================] - 2s 13ms/step - loss: 1.0449e-04 - val_loss: 9.8901e-05\n",
            "Epoch 27/50\n",
            "149/149 [==============================] - 2s 12ms/step - loss: 9.3879e-05 - val_loss: 8.8962e-05\n",
            "Epoch 28/50\n",
            "149/149 [==============================] - 2s 14ms/step - loss: 8.4528e-05 - val_loss: 8.0183e-05\n",
            "Epoch 29/50\n",
            "149/149 [==============================] - 2s 12ms/step - loss: 7.6257e-05 - val_loss: 7.2404e-05\n",
            "Epoch 30/50\n",
            "149/149 [==============================] - 2s 12ms/step - loss: 6.8917e-05 - val_loss: 6.5491e-05\n",
            "Epoch 31/50\n",
            "149/149 [==============================] - 2s 15ms/step - loss: 6.2385e-05 - val_loss: 5.9331e-05\n",
            "Epoch 32/50\n",
            "149/149 [==============================] - 2s 14ms/step - loss: 5.6557e-05 - val_loss: 5.3827e-05\n",
            "Epoch 33/50\n",
            "149/149 [==============================] - 2s 14ms/step - loss: 5.1344e-05 - val_loss: 4.8900e-05\n",
            "Epoch 34/50\n",
            "149/149 [==============================] - 2s 14ms/step - loss: 4.6672e-05 - val_loss: 4.4478e-05\n",
            "Epoch 35/50\n",
            "149/149 [==============================] - 2s 13ms/step - loss: 4.2476e-05 - val_loss: 4.0503e-05\n",
            "Epoch 36/50\n",
            "149/149 [==============================] - 2s 13ms/step - loss: 3.8700e-05 - val_loss: 3.6922e-05\n",
            "Epoch 37/50\n",
            "149/149 [==============================] - 2s 12ms/step - loss: 3.5297e-05 - val_loss: 3.3692e-05\n",
            "Epoch 38/50\n",
            "149/149 [==============================] - 2s 15ms/step - loss: 3.2224e-05 - val_loss: 3.0774e-05\n",
            "Epoch 39/50\n",
            "149/149 [==============================] - 2s 14ms/step - loss: 2.9446e-05 - val_loss: 2.8133e-05\n",
            "Epoch 40/50\n",
            "149/149 [==============================] - 2s 12ms/step - loss: 2.6930e-05 - val_loss: 2.5741e-05\n",
            "Epoch 41/50\n",
            "149/149 [==============================] - 2s 14ms/step - loss: 2.4650e-05 - val_loss: 2.3571e-05\n",
            "Epoch 42/50\n",
            "149/149 [==============================] - 2s 15ms/step - loss: 2.2580e-05 - val_loss: 2.1600e-05\n",
            "Epoch 43/50\n",
            "149/149 [==============================] - 2s 15ms/step - loss: 2.0699e-05 - val_loss: 1.9808e-05\n",
            "Epoch 44/50\n",
            "149/149 [==============================] - 2s 14ms/step - loss: 1.8989e-05 - val_loss: 1.8178e-05\n",
            "Epoch 45/50\n",
            "149/149 [==============================] - 2s 12ms/step - loss: 1.7431e-05 - val_loss: 1.6692e-05\n",
            "Epoch 46/50\n",
            "149/149 [==============================] - 2s 16ms/step - loss: 1.6012e-05 - val_loss: 1.5338e-05\n",
            "Epoch 47/50\n",
            "149/149 [==============================] - 2s 12ms/step - loss: 1.4717e-05 - val_loss: 1.4102e-05\n",
            "Epoch 48/50\n",
            "149/149 [==============================] - 2s 12ms/step - loss: 1.3536e-05 - val_loss: 1.2974e-05\n",
            "Epoch 49/50\n",
            "149/149 [==============================] - 2s 13ms/step - loss: 1.2456e-05 - val_loss: 1.1943e-05\n",
            "Epoch 50/50\n",
            "149/149 [==============================] - 2s 13ms/step - loss: 1.1470e-05 - val_loss: 1.1000e-05\n"
          ]
        },
        {
          "output_type": "execute_result",
          "data": {
            "text/plain": [
              "<keras.callbacks.History at 0x7fb324dc4b10>"
            ]
          },
          "metadata": {},
          "execution_count": 269
        }
      ]
    },
    {
      "cell_type": "markdown",
      "source": [
        "lets visualise"
      ],
      "metadata": {
        "id": "Qt-PPfPJ8v_O"
      }
    },
    {
      "cell_type": "code",
      "source": [
        "# Encode and decode some digits\n",
        "# Note that we take them from the *test* set\n",
        "encoded_imgs = encoder.predict(x_test)\n",
        "decoded_imgs = decoder.predict(encoded_imgs)"
      ],
      "metadata": {
        "colab": {
          "base_uri": "https://localhost:8080/"
        },
        "id": "c5MhFUOa8tSS",
        "outputId": "cdc8bba6-3b0c-4c91-d905-e3eea0595e17"
      },
      "execution_count": 270,
      "outputs": [
        {
          "output_type": "stream",
          "name": "stdout",
          "text": [
            "250/250 [==============================] - 0s 1ms/step\n",
            "250/250 [==============================] - 0s 1ms/step\n"
          ]
        }
      ]
    },
    {
      "cell_type": "code",
      "source": [
        "# Use Matplotlib (don't ask)\n",
        "import matplotlib.pyplot as plt\n",
        "\n",
        "n = 10  # How many digits we will display\n",
        "plt.figure(figsize=(20, 4))\n",
        "for i in range(n):\n",
        "    # Display original\n",
        "    ax = plt.subplot(2, n, i + 1)\n",
        "    plt.plot(x_test[i])\n",
        "    ax.get_xaxis().set_visible(False)\n",
        "    ax.get_yaxis().set_visible(False)\n",
        "\n",
        "    # Display reconstruction\n",
        "    ax = plt.subplot(2, n, i + 1 + n)\n",
        "    plt.plot(decoded_imgs[i])\n",
        "    ax.get_xaxis().set_visible(False)\n",
        "    ax.get_yaxis().set_visible(False)\n",
        "plt.show()"
      ],
      "metadata": {
        "colab": {
          "base_uri": "https://localhost:8080/",
          "height": 252
        },
        "id": "X3PepYnU80su",
        "outputId": "99b79713-b87b-47e1-a7f4-4219ddf1c30e"
      },
      "execution_count": 271,
      "outputs": [
        {
          "output_type": "display_data",
          "data": {
            "text/plain": [
              "<Figure size 1440x288 with 20 Axes>"
            ],
            "image/png": "[encoded data removed]"
          },
          "metadata": {
            "needs_background": "light"
          }
        }
      ]
    },
    {
      "cell_type": "markdown",
      "source": [],
      "metadata": {
        "id": "IeadHo5V9OkU"
      }
    },
    {
      "cell_type": "code",
      "source": [],
      "metadata": {
        "id": "JdsfnZJM81kp"
      },
      "execution_count": 244,
      "outputs": []
    }
  ]
}