{
  "nbformat": 4,
  "nbformat_minor": 0,
  "metadata": {
    "colab": {
      "provenance": [],
      "include_colab_link": true
    },
    "kernelspec": {
      "name": "python3",
      "display_name": "Python 3"
    },
    "language_info": {
      "name": "python"
    },
    "widgets": {
      "application/vnd.jupyter.widget-state+json": {
        "ed6578161fa144fdb77b5c426df20f97": {
          "model_module": "@jupyter-widgets/controls",
          "model_name": "HBoxModel",
          "model_module_version": "1.5.0",
          "state": {
            "_dom_classes": [],
            "_model_module": "@jupyter-widgets/controls",
            "_model_module_version": "1.5.0",
            "_model_name": "HBoxModel",
            "_view_count": null,
            "_view_module": "@jupyter-widgets/controls",
            "_view_module_version": "1.5.0",
            "_view_name": "HBoxView",
            "box_style": "",
            "children": [
              "IPY_MODEL_0a982070e0bd43458187d2cea90e1732",
              "IPY_MODEL_69ec4abf45ea4ee4b346b23521ac1f88",
              "IPY_MODEL_8bdf4cdb628046a59791a454111f6908"
            ],
            "layout": "IPY_MODEL_d9f949e8f09140bab28afaf1d013fa9a"
          }
        },
        "0a982070e0bd43458187d2cea90e1732": {
          "model_module": "@jupyter-widgets/controls",
          "model_name": "HTMLModel",
          "model_module_version": "1.5.0",
          "state": {
            "_dom_classes": [],
            "_model_module": "@jupyter-widgets/controls",
            "_model_module_version": "1.5.0",
            "_model_name": "HTMLModel",
            "_view_count": null,
            "_view_module": "@jupyter-widgets/controls",
            "_view_module_version": "1.5.0",
            "_view_name": "HTMLView",
            "description": "",
            "description_tooltip": null,
            "layout": "IPY_MODEL_a22fb6316a36418b8dd12b612981da8b",
            "placeholder": "​",
            "style": "IPY_MODEL_c5154a1c0e1244d09b8e10de785a3136",
            "value": "100%"
          }
        },
        "69ec4abf45ea4ee4b346b23521ac1f88": {
          "model_module": "@jupyter-widgets/controls",
          "model_name": "FloatProgressModel",
          "model_module_version": "1.5.0",
          "state": {
            "_dom_classes": [],
            "_model_module": "@jupyter-widgets/controls",
            "_model_module_version": "1.5.0",
            "_model_name": "FloatProgressModel",
            "_view_count": null,
            "_view_module": "@jupyter-widgets/controls",
            "_view_module_version": "1.5.0",
            "_view_name": "ProgressView",
            "bar_style": "success",
            "description": "",
            "description_tooltip": null,
            "layout": "IPY_MODEL_53a9faa05a5a446d97578e44299a6745",
            "max": 6000,
            "min": 0,
            "orientation": "horizontal",
            "style": "IPY_MODEL_76ea614c813147dabae7582ba1d125a8",
            "value": 6000
          }
        },
        "8bdf4cdb628046a59791a454111f6908": {
          "model_module": "@jupyter-widgets/controls",
          "model_name": "HTMLModel",
          "model_module_version": "1.5.0",
          "state": {
            "_dom_classes": [],
            "_model_module": "@jupyter-widgets/controls",
            "_model_module_version": "1.5.0",
            "_model_name": "HTMLModel",
            "_view_count": null,
            "_view_module": "@jupyter-widgets/controls",
            "_view_module_version": "1.5.0",
            "_view_name": "HTMLView",
            "description": "",
            "description_tooltip": null,
            "layout": "IPY_MODEL_7fbeb8e308624de1a13f0adf00af62cc",
            "placeholder": "​",
            "style": "IPY_MODEL_5678c1f2a59141a5a8c03083d1bd1b1b",
            "value": " 6000/6000 [00:20&lt;00:00, 350.07it/s]"
          }
        },
        "d9f949e8f09140bab28afaf1d013fa9a": {
          "model_module": "@jupyter-widgets/base",
          "model_name": "LayoutModel",
          "model_module_version": "1.2.0",
          "state": {
            "_model_module": "@jupyter-widgets/base",
            "_model_module_version": "1.2.0",
            "_model_name": "LayoutModel",
            "_view_count": null,
            "_view_module": "@jupyter-widgets/base",
            "_view_module_version": "1.2.0",
            "_view_name": "LayoutView",
            "align_content": null,
            "align_items": null,
            "align_self": null,
            "border": null,
            "bottom": null,
            "display": null,
            "flex": null,
            "flex_flow": null,
            "grid_area": null,
            "grid_auto_columns": null,
            "grid_auto_flow": null,
            "grid_auto_rows": null,
            "grid_column": null,
            "grid_gap": null,
            "grid_row": null,
            "grid_template_areas": null,
            "grid_template_columns": null,
            "grid_template_rows": null,
            "height": null,
            "justify_content": null,
            "justify_items": null,
            "left": null,
            "margin": null,
            "max_height": null,
            "max_width": null,
            "min_height": null,
            "min_width": null,
            "object_fit": null,
            "object_position": null,
            "order": null,
            "overflow": null,
            "overflow_x": null,
            "overflow_y": null,
            "padding": null,
            "right": null,
            "top": null,
            "visibility": null,
            "width": null
          }
        },
        "a22fb6316a36418b8dd12b612981da8b": {
          "model_module": "@jupyter-widgets/base",
          "model_name": "LayoutModel",
          "model_module_version": "1.2.0",
          "state": {
            "_model_module": "@jupyter-widgets/base",
            "_model_module_version": "1.2.0",
            "_model_name": "LayoutModel",
            "_view_count": null,
            "_view_module": "@jupyter-widgets/base",
            "_view_module_version": "1.2.0",
            "_view_name": "LayoutView",
            "align_content": null,
            "align_items": null,
            "align_self": null,
            "border": null,
            "bottom": null,
            "display": null,
            "flex": null,
            "flex_flow": null,
            "grid_area": null,
            "grid_auto_columns": null,
            "grid_auto_flow": null,
            "grid_auto_rows": null,
            "grid_column": null,
            "grid_gap": null,
            "grid_row": null,
            "grid_template_areas": null,
            "grid_template_columns": null,
            "grid_template_rows": null,
            "height": null,
            "justify_content": null,
            "justify_items": null,
            "left": null,
            "margin": null,
            "max_height": null,
            "max_width": null,
            "min_height": null,
            "min_width": null,
            "object_fit": null,
            "object_position": null,
            "order": null,
            "overflow": null,
            "overflow_x": null,
            "overflow_y": null,
            "padding": null,
            "right": null,
            "top": null,
            "visibility": null,
            "width": null
          }
        },
        "c5154a1c0e1244d09b8e10de785a3136": {
          "model_module": "@jupyter-widgets/controls",
          "model_name": "DescriptionStyleModel",
          "model_module_version": "1.5.0",
          "state": {
            "_model_module": "@jupyter-widgets/controls",
            "_model_module_version": "1.5.0",
            "_model_name": "DescriptionStyleModel",
            "_view_count": null,
            "_view_module": "@jupyter-widgets/base",
            "_view_module_version": "1.2.0",
            "_view_name": "StyleView",
            "description_width": ""
          }
        },
        "53a9faa05a5a446d97578e44299a6745": {
          "model_module": "@jupyter-widgets/base",
          "model_name": "LayoutModel",
          "model_module_version": "1.2.0",
          "state": {
            "_model_module": "@jupyter-widgets/base",
            "_model_module_version": "1.2.0",
            "_model_name": "LayoutModel",
            "_view_count": null,
            "_view_module": "@jupyter-widgets/base",
            "_view_module_version": "1.2.0",
            "_view_name": "LayoutView",
            "align_content": null,
            "align_items": null,
            "align_self": null,
            "border": null,
            "bottom": null,
            "display": null,
            "flex": null,
            "flex_flow": null,
            "grid_area": null,
            "grid_auto_columns": null,
            "grid_auto_flow": null,
            "grid_auto_rows": null,
            "grid_column": null,
            "grid_gap": null,
            "grid_row": null,
            "grid_template_areas": null,
            "grid_template_columns": null,
            "grid_template_rows": null,
            "height": null,
            "justify_content": null,
            "justify_items": null,
            "left": null,
            "margin": null,
            "max_height": null,
            "max_width": null,
            "min_height": null,
            "min_width": null,
            "object_fit": null,
            "object_position": null,
            "order": null,
            "overflow": null,
            "overflow_x": null,
            "overflow_y": null,
            "padding": null,
            "right": null,
            "top": null,
            "visibility": null,
            "width": null
          }
        },
        "76ea614c813147dabae7582ba1d125a8": {
          "model_module": "@jupyter-widgets/controls",
          "model_name": "ProgressStyleModel",
          "model_module_version": "1.5.0",
          "state": {
            "_model_module": "@jupyter-widgets/controls",
            "_model_module_version": "1.5.0",
            "_model_name": "ProgressStyleModel",
            "_view_count": null,
            "_view_module": "@jupyter-widgets/base",
            "_view_module_version": "1.2.0",
            "_view_name": "StyleView",
            "bar_color": null,
            "description_width": ""
          }
        },
        "7fbeb8e308624de1a13f0adf00af62cc": {
          "model_module": "@jupyter-widgets/base",
          "model_name": "LayoutModel",
          "model_module_version": "1.2.0",
          "state": {
            "_model_module": "@jupyter-widgets/base",
            "_model_module_version": "1.2.0",
            "_model_name": "LayoutModel",
            "_view_count": null,
            "_view_module": "@jupyter-widgets/base",
            "_view_module_version": "1.2.0",
            "_view_name": "LayoutView",
            "align_content": null,
            "align_items": null,
            "align_self": null,
            "border": null,
            "bottom": null,
            "display": null,
            "flex": null,
            "flex_flow": null,
            "grid_area": null,
            "grid_auto_columns": null,
            "grid_auto_flow": null,
            "grid_auto_rows": null,
            "grid_column": null,
            "grid_gap": null,
            "grid_row": null,
            "grid_template_areas": null,
            "grid_template_columns": null,
            "grid_template_rows": null,
            "height": null,
            "justify_content": null,
            "justify_items": null,
            "left": null,
            "margin": null,
            "max_height": null,
            "max_width": null,
            "min_height": null,
            "min_width": null,
            "object_fit": null,
            "object_position": null,
            "order": null,
            "overflow": null,
            "overflow_x": null,
            "overflow_y": null,
            "padding": null,
            "right": null,
            "top": null,
            "visibility": null,
            "width": null
          }
        },
        "5678c1f2a59141a5a8c03083d1bd1b1b": {
          "model_module": "@jupyter-widgets/controls",
          "model_name": "DescriptionStyleModel",
          "model_module_version": "1.5.0",
          "state": {
            "_model_module": "@jupyter-widgets/controls",
            "_model_module_version": "1.5.0",
            "_model_name": "DescriptionStyleModel",
            "_view_count": null,
            "_view_module": "@jupyter-widgets/base",
            "_view_module_version": "1.2.0",
            "_view_name": "StyleView",
            "description_width": ""
          }
        },
        "df82c931ec3e456da1aa56e8d0db7792": {
          "model_module": "@jupyter-widgets/controls",
          "model_name": "HBoxModel",
          "model_module_version": "1.5.0",
          "state": {
            "_dom_classes": [],
            "_model_module": "@jupyter-widgets/controls",
            "_model_module_version": "1.5.0",
            "_model_name": "HBoxModel",
            "_view_count": null,
            "_view_module": "@jupyter-widgets/controls",
            "_view_module_version": "1.5.0",
            "_view_name": "HBoxView",
            "box_style": "",
            "children": [
              "IPY_MODEL_e14e6e892c4640b1bb8070bd3022f494",
              "IPY_MODEL_e1866ec3a04941298bcfa7ae4a8acc3f",
              "IPY_MODEL_3c28a5a7135a4d329d3c96df23ce3d2f"
            ],
            "layout": "IPY_MODEL_a3a654d296a546fda99a5349e49e4c6c"
          }
        },
        "e14e6e892c4640b1bb8070bd3022f494": {
          "model_module": "@jupyter-widgets/controls",
          "model_name": "HTMLModel",
          "model_module_version": "1.5.0",
          "state": {
            "_dom_classes": [],
            "_model_module": "@jupyter-widgets/controls",
            "_model_module_version": "1.5.0",
            "_model_name": "HTMLModel",
            "_view_count": null,
            "_view_module": "@jupyter-widgets/controls",
            "_view_module_version": "1.5.0",
            "_view_name": "HTMLView",
            "description": "",
            "description_tooltip": null,
            "layout": "IPY_MODEL_953cab2463bd4f68b0a57b42b2c30608",
            "placeholder": "​",
            "style": "IPY_MODEL_897282400a0041f984b062414442d94e",
            "value": "100%"
          }
        },
        "e1866ec3a04941298bcfa7ae4a8acc3f": {
          "model_module": "@jupyter-widgets/controls",
          "model_name": "FloatProgressModel",
          "model_module_version": "1.5.0",
          "state": {
            "_dom_classes": [],
            "_model_module": "@jupyter-widgets/controls",
            "_model_module_version": "1.5.0",
            "_model_name": "FloatProgressModel",
            "_view_count": null,
            "_view_module": "@jupyter-widgets/controls",
            "_view_module_version": "1.5.0",
            "_view_name": "ProgressView",
            "bar_style": "success",
            "description": "",
            "description_tooltip": null,
            "layout": "IPY_MODEL_dcd568eb7e2e47cba6ff524b1966cb6e",
            "max": 1000,
            "min": 0,
            "orientation": "horizontal",
            "style": "IPY_MODEL_06c95516ffad4134a127837f3f107527",
            "value": 1000
          }
        },
        "3c28a5a7135a4d329d3c96df23ce3d2f": {
          "model_module": "@jupyter-widgets/controls",
          "model_name": "HTMLModel",
          "model_module_version": "1.5.0",
          "state": {
            "_dom_classes": [],
            "_model_module": "@jupyter-widgets/controls",
            "_model_module_version": "1.5.0",
            "_model_name": "HTMLModel",
            "_view_count": null,
            "_view_module": "@jupyter-widgets/controls",
            "_view_module_version": "1.5.0",
            "_view_name": "HTMLView",
            "description": "",
            "description_tooltip": null,
            "layout": "IPY_MODEL_f5cc41eabec94c68971d3d90692e69ee",
            "placeholder": "​",
            "style": "IPY_MODEL_a81e6e00e8904b7f942a5159ca8939ac",
            "value": " 1000/1000 [00:03&lt;00:00, 307.72it/s]"
          }
        },
        "a3a654d296a546fda99a5349e49e4c6c": {
          "model_module": "@jupyter-widgets/base",
          "model_name": "LayoutModel",
          "model_module_version": "1.2.0",
          "state": {
            "_model_module": "@jupyter-widgets/base",
            "_model_module_version": "1.2.0",
            "_model_name": "LayoutModel",
            "_view_count": null,
            "_view_module": "@jupyter-widgets/base",
            "_view_module_version": "1.2.0",
            "_view_name": "LayoutView",
            "align_content": null,
            "align_items": null,
            "align_self": null,
            "border": null,
            "bottom": null,
            "display": null,
            "flex": null,
            "flex_flow": null,
            "grid_area": null,
            "grid_auto_columns": null,
            "grid_auto_flow": null,
            "grid_auto_rows": null,
            "grid_column": null,
            "grid_gap": null,
            "grid_row": null,
            "grid_template_areas": null,
            "grid_template_columns": null,
            "grid_template_rows": null,
            "height": null,
            "justify_content": null,
            "justify_items": null,
            "left": null,
            "margin": null,
            "max_height": null,
            "max_width": null,
            "min_height": null,
            "min_width": null,
            "object_fit": null,
            "object_position": null,
            "order": null,
            "overflow": null,
            "overflow_x": null,
            "overflow_y": null,
            "padding": null,
            "right": null,
            "top": null,
            "visibility": null,
            "width": null
          }
        },
        "953cab2463bd4f68b0a57b42b2c30608": {
          "model_module": "@jupyter-widgets/base",
          "model_name": "LayoutModel",
          "model_module_version": "1.2.0",
          "state": {
            "_model_module": "@jupyter-widgets/base",
            "_model_module_version": "1.2.0",
            "_model_name": "LayoutModel",
            "_view_count": null,
            "_view_module": "@jupyter-widgets/base",
            "_view_module_version": "1.2.0",
            "_view_name": "LayoutView",
            "align_content": null,
            "align_items": null,
            "align_self": null,
            "border": null,
            "bottom": null,
            "display": null,
            "flex": null,
            "flex_flow": null,
            "grid_area": null,
            "grid_auto_columns": null,
            "grid_auto_flow": null,
            "grid_auto_rows": null,
            "grid_column": null,
            "grid_gap": null,
            "grid_row": null,
            "grid_template_areas": null,
            "grid_template_columns": null,
            "grid_template_rows": null,
            "height": null,
            "justify_content": null,
            "justify_items": null,
            "left": null,
            "margin": null,
            "max_height": null,
            "max_width": null,
            "min_height": null,
            "min_width": null,
            "object_fit": null,
            "object_position": null,
            "order": null,
            "overflow": null,
            "overflow_x": null,
            "overflow_y": null,
            "padding": null,
            "right": null,
            "top": null,
            "visibility": null,
            "width": null
          }
        },
        "897282400a0041f984b062414442d94e": {
          "model_module": "@jupyter-widgets/controls",
          "model_name": "DescriptionStyleModel",
          "model_module_version": "1.5.0",
          "state": {
            "_model_module": "@jupyter-widgets/controls",
            "_model_module_version": "1.5.0",
            "_model_name": "DescriptionStyleModel",
            "_view_count": null,
            "_view_module": "@jupyter-widgets/base",
            "_view_module_version": "1.2.0",
            "_view_name": "StyleView",
            "description_width": ""
          }
        },
        "dcd568eb7e2e47cba6ff524b1966cb6e": {
          "model_module": "@jupyter-widgets/base",
          "model_name": "LayoutModel",
          "model_module_version": "1.2.0",
          "state": {
            "_model_module": "@jupyter-widgets/base",
            "_model_module_version": "1.2.0",
            "_model_name": "LayoutModel",
            "_view_count": null,
            "_view_module": "@jupyter-widgets/base",
            "_view_module_version": "1.2.0",
            "_view_name": "LayoutView",
            "align_content": null,
            "align_items": null,
            "align_self": null,
            "border": null,
            "bottom": null,
            "display": null,
            "flex": null,
            "flex_flow": null,
            "grid_area": null,
            "grid_auto_columns": null,
            "grid_auto_flow": null,
            "grid_auto_rows": null,
            "grid_column": null,
            "grid_gap": null,
            "grid_row": null,
            "grid_template_areas": null,
            "grid_template_columns": null,
            "grid_template_rows": null,
            "height": null,
            "justify_content": null,
            "justify_items": null,
            "left": null,
            "margin": null,
            "max_height": null,
            "max_width": null,
            "min_height": null,
            "min_width": null,
            "object_fit": null,
            "object_position": null,
            "order": null,
            "overflow": null,
            "overflow_x": null,
            "overflow_y": null,
            "padding": null,
            "right": null,
            "top": null,
            "visibility": null,
            "width": null
          }
        },
        "06c95516ffad4134a127837f3f107527": {
          "model_module": "@jupyter-widgets/controls",
          "model_name": "ProgressStyleModel",
          "model_module_version": "1.5.0",
          "state": {
            "_model_module": "@jupyter-widgets/controls",
            "_model_module_version": "1.5.0",
            "_model_name": "ProgressStyleModel",
            "_view_count": null,
            "_view_module": "@jupyter-widgets/base",
            "_view_module_version": "1.2.0",
            "_view_name": "StyleView",
            "bar_color": null,
            "description_width": ""
          }
        },
        "f5cc41eabec94c68971d3d90692e69ee": {
          "model_module": "@jupyter-widgets/base",
          "model_name": "LayoutModel",
          "model_module_version": "1.2.0",
          "state": {
            "_model_module": "@jupyter-widgets/base",
            "_model_module_version": "1.2.0",
            "_model_name": "LayoutModel",
            "_view_count": null,
            "_view_module": "@jupyter-widgets/base",
            "_view_module_version": "1.2.0",
            "_view_name": "LayoutView",
            "align_content": null,
            "align_items": null,
            "align_self": null,
            "border": null,
            "bottom": null,
            "display": null,
            "flex": null,
            "flex_flow": null,
            "grid_area": null,
            "grid_auto_columns": null,
            "grid_auto_flow": null,
            "grid_auto_rows": null,
            "grid_column": null,
            "grid_gap": null,
            "grid_row": null,
            "grid_template_areas": null,
            "grid_template_columns": null,
            "grid_template_rows": null,
            "height": null,
            "justify_content": null,
            "justify_items": null,
            "left": null,
            "margin": null,
            "max_height": null,
            "max_width": null,
            "min_height": null,
            "min_width": null,
            "object_fit": null,
            "object_position": null,
            "order": null,
            "overflow": null,
            "overflow_x": null,
            "overflow_y": null,
            "padding": null,
            "right": null,
            "top": null,
            "visibility": null,
            "width": null
          }
        },
        "a81e6e00e8904b7f942a5159ca8939ac": {
          "model_module": "@jupyter-widgets/controls",
          "model_name": "DescriptionStyleModel",
          "model_module_version": "1.5.0",
          "state": {
            "_model_module": "@jupyter-widgets/controls",
            "_model_module_version": "1.5.0",
            "_model_name": "DescriptionStyleModel",
            "_view_count": null,
            "_view_module": "@jupyter-widgets/base",
            "_view_module_version": "1.2.0",
            "_view_name": "StyleView",
            "description_width": ""
          }
        }
      }
    }
  },
  "cells": [
    {
      "cell_type": "markdown",
      "metadata": {
        "id": "view-in-github",
        "colab_type": "text"
      },
      "source": [
        "<a href=\"https://colab.research.google.com/github/Clarke-Jools-36/diss-gw/blob/testing/autoencoder_v1.ipynb\" target=\"_parent\"><img src=\"https://colab.research.google.com/assets/colab-badge.svg\" alt=\"Open In Colab\"/></a>"
      ]
    },
    {
      "cell_type": "markdown",
      "source": [
        "I am going to attempt to set up a simple autoencoder. First I need to create data on which to test and train the autoencoder. I will create gravitational wave sections 1 second long with 1024 samples. \n",
        "I will also create artefacts which are not gravitational waves. "
      ],
      "metadata": {
        "id": "9_-QryiBc6SY"
      }
    },
    {
      "cell_type": "code",
      "execution_count": 168,
      "metadata": {
        "id": "uShmlfeBcv6L"
      },
      "outputs": [],
      "source": [
        "import numpy as np\n",
        "from matplotlib import pyplot as plt"
      ]
    },
    {
      "cell_type": "code",
      "source": [
        "t = np.linspace(0,1,1024) #create an array of time between 0 and 1 second with 1024 samples\n",
        "a = np.zeros_like(t) #create an array of zeros to populate with amplitude values"
      ],
      "metadata": {
        "id": "yFKqjirfd9BZ"
      },
      "execution_count": 169,
      "outputs": []
    },
    {
      "cell_type": "code",
      "source": [
        "print(len(a))\n",
        "print(len(a)==len(t)) #idiot check early :)"
      ],
      "metadata": {
        "colab": {
          "base_uri": "https://localhost:8080/"
        },
        "id": "dlxSZd5vecGN",
        "outputId": "895f935d-37e6-4377-cee6-795961f5b8ba"
      },
      "execution_count": 170,
      "outputs": [
        {
          "output_type": "stream",
          "name": "stdout",
          "text": [
            "1024\n",
            "True\n"
          ]
        }
      ]
    },
    {
      "cell_type": "markdown",
      "source": [
        "Lets start with an artifact, a sin wave which has amplidue of a bell curve"
      ],
      "metadata": {
        "id": "RGvLvdJplLzS"
      }
    },
    {
      "cell_type": "code",
      "source": [
        "## SIN WAVE ##\n",
        "A = 0 #amplitude\n",
        "B = 0.01 #period\n",
        "C = 0 #phase shift (horizontal)\n",
        "D = 0 #amplitude shift (vertical)\n",
        "## BELL CURVE ##\n",
        "b = 0.03 #width of bell curve describing amplitude\n",
        "c = 0.5  #phase shift (horizontal) of bell curve\n",
        "\n",
        "for i,t_ in enumerate(t):\n",
        "  A = np.e**( -((t_-c)**2 / b) ) #setting amplidude to bell curve\n",
        "  #plt.plot(t_, A, \"x\")\n",
        "\n",
        "  a[i] = A * np.sin( (1/B) * (t_ - C) ) + D\n",
        "\n",
        "plt.plot(t,a)"
      ],
      "metadata": {
        "colab": {
          "base_uri": "https://localhost:8080/",
          "height": 283
        },
        "id": "5aZc1M0KefZ3",
        "outputId": "6e8bea13-a7d4-49d9-8083-55ea09355221"
      },
      "execution_count": 171,
      "outputs": [
        {
          "output_type": "execute_result",
          "data": {
            "text/plain": [
              "[<matplotlib.lines.Line2D at 0x7fb32cc62150>]"
            ]
          },
          "metadata": {},
          "execution_count": 171
        },
        {
          "output_type": "display_data",
          "data": {
            "text/plain": [
              "<Figure size 432x288 with 1 Axes>"
            ],
            "image/png": "[encoded data removed]"
          },
          "metadata": {
            "needs_background": "light"
          }
        }
      ]
    },
    {
      "cell_type": "markdown",
      "source": [
        "We can also make the frequency of the sin wave lower at the tail ends. "
      ],
      "metadata": {
        "id": "Xl-vvlrCmLV_"
      }
    },
    {
      "cell_type": "code",
      "source": [
        "for i,t_ in enumerate(t):\n",
        "  A = np.e**( -((t_-c)**2 / b) ) #setting amplidude to bell curve\n",
        "  \n",
        "  B = -0.035 * (np.e**( -((t_-c)**2 / b) )) + 0.05 #setting freq to bell curve\n",
        "  #plt.plot(t_, B, \"x\")\n",
        "  a[i] = A * np.sin( (1/B) * (t_ - C) ) + D\n",
        "\n",
        "plt.plot(t,a)"
      ],
      "metadata": {
        "colab": {
          "base_uri": "https://localhost:8080/",
          "height": 283
        },
        "id": "Kie7s4lnmTnv",
        "outputId": "27e15ccb-9a96-45d1-abc5-22a249a5b90e"
      },
      "execution_count": 172,
      "outputs": [
        {
          "output_type": "execute_result",
          "data": {
            "text/plain": [
              "[<matplotlib.lines.Line2D at 0x7fb32ca91610>]"
            ]
          },
          "metadata": {},
          "execution_count": 172
        },
        {
          "output_type": "display_data",
          "data": {
            "text/plain": [
              "<Figure size 432x288 with 1 Axes>"
            ],
            "image/png": "[encoded data removed]"
          },
          "metadata": {
            "needs_background": "light"
          }
        }
      ]
    },
    {
      "cell_type": "markdown",
      "source": [
        "Something funky is happening here, potentially because of the syncing with the sample rate?\n",
        "\n",
        "Lets move on to grav wave like signals. These are less symettrical\n",
        "\n"
      ],
      "metadata": {
        "id": "LWjcXFxlpYf5"
      }
    },
    {
      "cell_type": "code",
      "source": [
        "t = np.linspace(0,1,1024) #create an array of time between 0 and 1 second with 1024 samples\n",
        "a = np.zeros_like(t) #create an array of zeros to populate with amplitude values"
      ],
      "metadata": {
        "id": "ovtFzfuBpk7p"
      },
      "execution_count": 173,
      "outputs": []
    },
    {
      "cell_type": "code",
      "source": [
        "## SIN WAVE ##\n",
        "A = 0 #amplitude\n",
        "B = 0.01 #period\n",
        "C = 0 #phase shift (horizontal)\n",
        "D = 0 #amplitude shift (vertical)\n",
        "## POLYNOMIAL ##\n",
        "b = 2 #amplitude of amplitude polynomial\n",
        "c = 0.005 #amplitude of freq polynomial\n",
        "d = 5 #degree of polynomial\n",
        "for i,t_ in enumerate(t):\n",
        "  if 0<t_<0.8:\n",
        "    A = 2*t_**5 # amplitude increases with polynomial 5\n",
        "    B = 0.005/t_**5 #freq increases\n",
        "  else:\n",
        "    A = 0\n",
        "\n",
        "  a[i] = A * np.sin( (1/B) * (t_ - C) ) + D\n",
        "\n",
        "plt.plot(t,a)"
      ],
      "metadata": {
        "colab": {
          "base_uri": "https://localhost:8080/",
          "height": 283
        },
        "id": "MqC1Ugztppoz",
        "outputId": "b3328b52-bf10-4058-c5ca-945ffb49cb59"
      },
      "execution_count": 174,
      "outputs": [
        {
          "output_type": "execute_result",
          "data": {
            "text/plain": [
              "[<matplotlib.lines.Line2D at 0x7fb328bfddd0>]"
            ]
          },
          "metadata": {},
          "execution_count": 174
        },
        {
          "output_type": "display_data",
          "data": {
            "text/plain": [
              "<Figure size 432x288 with 1 Axes>"
            ],
            "image/png": "[encoded data removed]"
          },
          "metadata": {
            "needs_background": "light"
          }
        }
      ]
    },
    {
      "cell_type": "markdown",
      "source": [
        "Lets make some functions, and save this data"
      ],
      "metadata": {
        "id": "cpOO0L8It6Vl"
      }
    },
    {
      "cell_type": "code",
      "source": [
        "def blip(seed = None):\n",
        "  if seed == None:\n",
        "    seed = np.random.randint(0,999999)\n",
        "  np.random.seed(seed)\n",
        "\n",
        "\n",
        "  t = np.linspace(0,1,1024) #create an array of time between 0 and 1 second with 1024 samples\n",
        "  a = np.zeros_like(t) #create an array of zeros to populate with amplitude values\n",
        "  A,B,C,D,b,c = 0,0.01,((np.random.rand()-0.5)),0,0.03 + (0.05*(np.random.rand()-0.5)),0.5 + (0.5*(np.random.rand()-0.5))\n",
        "\n",
        "  randomA = (0.5*(np.random.rand()-0.5)) #maximum amplitude\n",
        "\n",
        "  for i,t_ in enumerate(t):\n",
        "    A = randomA * np.e**( -((t_-c)**2 / b) ) #setting amplidude to bell curve\n",
        "    a[i] = A * np.sin( (1/B) * (t_ - C) ) + D\n",
        "\n",
        "  return {\"data\":{\"time\":t,\"amplitude\":a},\"seed\":seed}\n"
      ],
      "metadata": {
        "id": "mVIJSy7Qt5vg"
      },
      "execution_count": 175,
      "outputs": []
    },
    {
      "cell_type": "code",
      "source": [
        "def wave(seed = None):\n",
        "  if seed == None:\n",
        "    seed = np.random.randint(0,999999)\n",
        "  np.random.seed(seed)\n",
        "\n",
        "\n",
        "  t = np.linspace(0,1,1024) #create an array of time between 0 and 1 second with 1024 samples\n",
        "  a = np.zeros_like(t) #create an array of zeros to populate with amplitude values\n",
        "\n",
        "  A,B,C,D,b,c,d = 0,0.01,((np.random.rand()-0.5)),0,2 + ((np.random.rand()-0.5)),0.005 + (0.001*(np.random.rand()-0.5)),5\n",
        "\n",
        "  randomA = (0.5*(np.random.rand()-0.5)) #maximum amplitude\n",
        "\n",
        "  for i,t_ in enumerate(t):\n",
        "    if 0<t_<0.75+C/2:\n",
        "      A = randomA * 2*t_**5 # amplitude increases with polynomial 5\n",
        "      B = 0.005/t_**5 #freq increases\n",
        "    else:\n",
        "      A = 0\n",
        "\n",
        "    a[i] = A * np.sin( (1/B) * (t_ - C) ) + D\n",
        "\n",
        "  return {\"data\":{\"time\":t,\"amplitude\":a},\"seed\":seed}\n",
        "\n"
      ],
      "metadata": {
        "id": "NAXqkyNDxJju"
      },
      "execution_count": 176,
      "outputs": []
    },
    {
      "cell_type": "code",
      "source": [
        "blip_ = blip()\n",
        "plt.plot(blip_[\"data\"][\"time\"],blip_[\"data\"][\"amplitude\"], label = blip_[\"seed\"])\n",
        "blip_ = blip()\n",
        "plt.plot(blip_[\"data\"][\"time\"],blip_[\"data\"][\"amplitude\"], label = blip_[\"seed\"])\n",
        "blip_ = blip()\n",
        "plt.plot(blip_[\"data\"][\"time\"],blip_[\"data\"][\"amplitude\"], label = blip_[\"seed\"])\n",
        "\n",
        "plt.legend()"
      ],
      "metadata": {
        "colab": {
          "base_uri": "https://localhost:8080/",
          "height": 283
        },
        "id": "U1KsW-e62L5F",
        "outputId": "5b5fbc27-9454-44e1-e872-0fa2931be8b4"
      },
      "execution_count": 177,
      "outputs": [
        {
          "output_type": "execute_result",
          "data": {
            "text/plain": [
              "<matplotlib.legend.Legend at 0x7fb328c18090>"
            ]
          },
          "metadata": {},
          "execution_count": 177
        },
        {
          "output_type": "display_data",
          "data": {
            "text/plain": [
              "<Figure size 432x288 with 1 Axes>"
            ],
            "image/png": "[encoded data removed]"
          },
          "metadata": {
            "needs_background": "light"
          }
        }
      ]
    },
    {
      "cell_type": "code",
      "source": [
        "wave_ = wave()\n",
        "plt.plot(wave_[\"data\"][\"time\"],wave_[\"data\"][\"amplitude\"], label = wave_[\"seed\"])\n",
        "wave_ = wave()\n",
        "plt.plot(wave_[\"data\"][\"time\"],wave_[\"data\"][\"amplitude\"], label = wave_[\"seed\"])\n",
        "wave_ = wave()\n",
        "plt.plot(wave_[\"data\"][\"time\"],wave_[\"data\"][\"amplitude\"], label = wave_[\"seed\"])\n",
        "\n",
        "\n",
        "plt.legend()"
      ],
      "metadata": {
        "colab": {
          "base_uri": "https://localhost:8080/",
          "height": 283
        },
        "id": "NhXO4xw5xLg7",
        "outputId": "2e6cbb72-e3ca-4467-df6a-5c53c6ee8030"
      },
      "execution_count": 178,
      "outputs": [
        {
          "output_type": "execute_result",
          "data": {
            "text/plain": [
              "<matplotlib.legend.Legend at 0x7fb328af3c90>"
            ]
          },
          "metadata": {},
          "execution_count": 178
        },
        {
          "output_type": "display_data",
          "data": {
            "text/plain": [
              "<Figure size 432x288 with 1 Axes>"
            ],
            "image/png": "[encoded data removed]"
          },
          "metadata": {
            "needs_background": "light"
          }
        }
      ]
    },
    {
      "cell_type": "markdown",
      "source": [
        "Time to start thinking about the autoencoder"
      ],
      "metadata": {
        "id": "xRNwUb6E6VNB"
      }
    },
    {
      "cell_type": "code",
      "source": [
        "import keras\n",
        "from keras import layers\n",
        "\n",
        "# This is the size of our encoded representations\n",
        "encoding_dim = 16  # 32 floats -> compression of factor 24.5, assuming the input is 784 floats\n",
        "\n",
        "# This is our input image\n",
        "input_img = keras.Input(shape=(1024,)) \n",
        "# \"encoded\" is the encoded representation of the input\n",
        "encoded = layers.Dense(encoding_dim, activation='relu')(input_img)\n",
        "# \"decoded\" is the lossy reconstruction of the input\n",
        "decoded = layers.Dense(1024, activation='sigmoid')(encoded)  \n",
        "# This model maps an input to its reconstruction\n",
        "autoencoder = keras.Model(input_img, decoded)"
      ],
      "metadata": {
        "id": "XkBp5fue6YCY"
      },
      "execution_count": 179,
      "outputs": []
    },
    {
      "cell_type": "markdown",
      "source": [
        "Now we create an encoder model"
      ],
      "metadata": {
        "id": "of1NT-cK6ncn"
      }
    },
    {
      "cell_type": "code",
      "source": [
        "# This model maps an input to its encoded representation\n",
        "encoder = keras.Model(input_img, encoded)"
      ],
      "metadata": {
        "id": "a77m0cNy6jw7"
      },
      "execution_count": 180,
      "outputs": []
    },
    {
      "cell_type": "markdown",
      "source": [
        "and a decoder model"
      ],
      "metadata": {
        "id": "uC7SbmYt6tvt"
      }
    },
    {
      "cell_type": "code",
      "source": [
        "# This is our encoded (32-dimensional) input\n",
        "encoded_input = keras.Input(shape=(encoding_dim,))\n",
        "# Retrieve the last layer of the autoencoder model\n",
        "decoder_layer = autoencoder.layers[-1]\n",
        "# Create the decoder model\n",
        "decoder = keras.Model(encoded_input, decoder_layer(encoded_input))"
      ],
      "metadata": {
        "id": "AVqikLBm6vca"
      },
      "execution_count": 181,
      "outputs": []
    },
    {
      "cell_type": "markdown",
      "source": [
        "First, we'll configure our model to use a per-pixel binary crossentropy loss, and the Adam optimizer:"
      ],
      "metadata": {
        "id": "7SAIoL4k61Xu"
      }
    },
    {
      "cell_type": "code",
      "source": [
        "autoencoder.compile(optimizer='adam', loss='binary_crossentropy')"
      ],
      "metadata": {
        "id": "mhWLkrXd611A"
      },
      "execution_count": 182,
      "outputs": []
    },
    {
      "cell_type": "markdown",
      "source": [
        "lets generate some data"
      ],
      "metadata": {
        "id": "UzDygzRi-_v8"
      }
    },
    {
      "cell_type": "code",
      "source": [
        "from tqdm.notebook import tqdm #this puts loading bars onto for loops "
      ],
      "metadata": {
        "id": "4D51WwCmAPKi"
      },
      "execution_count": 183,
      "outputs": []
    },
    {
      "cell_type": "code",
      "source": [
        "x_train = np.zeros([6000,1024])\n",
        "x_test = np.zeros([1000,1024])\n",
        "\n",
        "print(f\"generating train data, expect {len(x_train)} vals\")\n",
        "for i, _ in tqdm(enumerate(x_train), total = len(x_train)):\n",
        "  x_train[i] = blip()[\"data\"][\"amplitude\"]\n",
        "\n",
        "print(f\"generating test data, expect {len(x_test)} vals\")\n",
        "for i, _ in tqdm(enumerate(x_test), total = len(x_test)):\n",
        "  x_test[i] = blip()[\"data\"][\"amplitude\"]"
      ],
      "metadata": {
        "colab": {
          "base_uri": "https://localhost:8080/",
          "height": 117,
          "referenced_widgets": [
            "ed6578161fa144fdb77b5c426df20f97",
            "0a982070e0bd43458187d2cea90e1732",
            "69ec4abf45ea4ee4b346b23521ac1f88",
            "8bdf4cdb628046a59791a454111f6908",
            "d9f949e8f09140bab28afaf1d013fa9a",
            "a22fb6316a36418b8dd12b612981da8b",
            "c5154a1c0e1244d09b8e10de785a3136",
            "53a9faa05a5a446d97578e44299a6745",
            "76ea614c813147dabae7582ba1d125a8",
            "7fbeb8e308624de1a13f0adf00af62cc",
            "5678c1f2a59141a5a8c03083d1bd1b1b",
            "df82c931ec3e456da1aa56e8d0db7792",
            "e14e6e892c4640b1bb8070bd3022f494",
            "e1866ec3a04941298bcfa7ae4a8acc3f",
            "3c28a5a7135a4d329d3c96df23ce3d2f",
            "a3a654d296a546fda99a5349e49e4c6c",
            "953cab2463bd4f68b0a57b42b2c30608",
            "897282400a0041f984b062414442d94e",
            "dcd568eb7e2e47cba6ff524b1966cb6e",
            "06c95516ffad4134a127837f3f107527",
            "f5cc41eabec94c68971d3d90692e69ee",
            "a81e6e00e8904b7f942a5159ca8939ac"
          ]
        },
        "id": "h0sKnKFl-_YG",
        "outputId": "39e07767-bf0e-4db4-e863-ba1f9f546069"
      },
      "execution_count": 184,
      "outputs": [
        {
          "output_type": "stream",
          "name": "stdout",
          "text": [
            "generating train data, expect 6000 vals\n"
          ]
        },
        {
          "output_type": "display_data",
          "data": {
            "text/plain": [
              "  0%|          | 0/6000 [00:00<?, ?it/s]"
            ],
            "application/vnd.jupyter.widget-view+json": {
              "version_major": 2,
              "version_minor": 0,
              "model_id": "ed6578161fa144fdb77b5c426df20f97"
            }
          },
          "metadata": {}
        },
        {
          "output_type": "stream",
          "name": "stdout",
          "text": [
            "generating test data, expect 1000 vals\n"
          ]
        },
        {
          "output_type": "display_data",
          "data": {
            "text/plain": [
              "  0%|          | 0/1000 [00:00<?, ?it/s]"
            ],
            "application/vnd.jupyter.widget-view+json": {
              "version_major": 2,
              "version_minor": 0,
              "model_id": "df82c931ec3e456da1aa56e8d0db7792"
            }
          },
          "metadata": {}
        }
      ]
    },
    {
      "cell_type": "code",
      "source": [
        "x_train = x_train.astype('float32') / 255.\n",
        "x_test = x_test.astype('float32') / 255.\n",
        "print(x_train.shape)\n",
        "print(x_test.shape)"
      ],
      "metadata": {
        "colab": {
          "base_uri": "https://localhost:8080/"
        },
        "id": "tyUH6EmMBX5T",
        "outputId": "9b31b73f-fbd4-4617-9aba-b3e2df5a5fd9"
      },
      "execution_count": 185,
      "outputs": [
        {
          "output_type": "stream",
          "name": "stdout",
          "text": [
            "(6000, 1024)\n",
            "(1000, 1024)\n"
          ]
        }
      ]
    },
    {
      "cell_type": "markdown",
      "source": [
        "now lets train for 50 epochs"
      ],
      "metadata": {
        "id": "nhYkBWaG7c3a"
      }
    },
    {
      "cell_type": "code",
      "source": [
        "autoencoder.fit(x_train, x_train,\n",
        "                epochs=50,\n",
        "                batch_size=256,\n",
        "                shuffle=True,\n",
        "                validation_data=(x_test, x_test))"
      ],
      "metadata": {
        "colab": {
          "base_uri": "https://localhost:8080/"
        },
        "id": "7Iswgidz7bbO",
        "outputId": "3412a905-508a-412a-8e86-6141ee96c6d6"
      },
      "execution_count": 186,
      "outputs": [
        {
          "output_type": "stream",
          "name": "stdout",
          "text": [
            "Epoch 1/50\n",
            "24/24 [==============================] - 2s 38ms/step - loss: 0.6870 - val_loss: 0.6791\n",
            "Epoch 2/50\n",
            "24/24 [==============================] - 0s 11ms/step - loss: 0.6697 - val_loss: 0.6572\n",
            "Epoch 3/50\n",
            "24/24 [==============================] - 0s 11ms/step - loss: 0.6428 - val_loss: 0.6244\n",
            "Epoch 4/50\n",
            "24/24 [==============================] - 0s 11ms/step - loss: 0.6049 - val_loss: 0.5810\n",
            "Epoch 5/50\n",
            "24/24 [==============================] - 0s 10ms/step - loss: 0.5574 - val_loss: 0.5292\n",
            "Epoch 6/50\n",
            "24/24 [==============================] - 0s 14ms/step - loss: 0.5029 - val_loss: 0.4723\n",
            "Epoch 7/50\n",
            "24/24 [==============================] - 0s 15ms/step - loss: 0.4449 - val_loss: 0.4137\n",
            "Epoch 8/50\n",
            "24/24 [==============================] - 0s 14ms/step - loss: 0.3869 - val_loss: 0.3569\n",
            "Epoch 9/50\n",
            "24/24 [==============================] - 0s 16ms/step - loss: 0.3319 - val_loss: 0.3042\n",
            "Epoch 10/50\n",
            "24/24 [==============================] - 0s 15ms/step - loss: 0.2818 - val_loss: 0.2573\n",
            "Epoch 11/50\n",
            "24/24 [==============================] - 0s 15ms/step - loss: 0.2379 - val_loss: 0.2168\n",
            "Epoch 12/50\n",
            "24/24 [==============================] - 0s 14ms/step - loss: 0.2003 - val_loss: 0.1826\n",
            "Epoch 13/50\n",
            "24/24 [==============================] - 0s 15ms/step - loss: 0.1689 - val_loss: 0.1541\n",
            "Epoch 14/50\n",
            "24/24 [==============================] - 0s 14ms/step - loss: 0.1428 - val_loss: 0.1307\n",
            "Epoch 15/50\n",
            "24/24 [==============================] - 0s 15ms/step - loss: 0.1214 - val_loss: 0.1115\n",
            "Epoch 16/50\n",
            "24/24 [==============================] - 0s 13ms/step - loss: 0.1039 - val_loss: 0.0957\n",
            "Epoch 17/50\n",
            "24/24 [==============================] - 0s 13ms/step - loss: 0.0894 - val_loss: 0.0827\n",
            "Epoch 18/50\n",
            "24/24 [==============================] - 0s 14ms/step - loss: 0.0775 - val_loss: 0.0719\n",
            "Epoch 19/50\n",
            "24/24 [==============================] - 0s 13ms/step - loss: 0.0676 - val_loss: 0.0630\n",
            "Epoch 20/50\n",
            "24/24 [==============================] - 0s 13ms/step - loss: 0.0594 - val_loss: 0.0555\n",
            "Epoch 21/50\n",
            "24/24 [==============================] - 0s 14ms/step - loss: 0.0525 - val_loss: 0.0492\n",
            "Epoch 22/50\n",
            "24/24 [==============================] - 0s 14ms/step - loss: 0.0467 - val_loss: 0.0439\n",
            "Epoch 23/50\n",
            "24/24 [==============================] - 0s 13ms/step - loss: 0.0417 - val_loss: 0.0393\n",
            "Epoch 24/50\n",
            "24/24 [==============================] - 0s 11ms/step - loss: 0.0375 - val_loss: 0.0354\n",
            "Epoch 25/50\n",
            "24/24 [==============================] - 0s 10ms/step - loss: 0.0338 - val_loss: 0.0321\n",
            "Epoch 26/50\n",
            "24/24 [==============================] - 0s 12ms/step - loss: 0.0307 - val_loss: 0.0291\n",
            "Epoch 27/50\n",
            "24/24 [==============================] - 0s 12ms/step - loss: 0.0279 - val_loss: 0.0266\n",
            "Epoch 28/50\n",
            "24/24 [==============================] - 0s 15ms/step - loss: 0.0255 - val_loss: 0.0243\n",
            "Epoch 29/50\n",
            "24/24 [==============================] - 0s 13ms/step - loss: 0.0234 - val_loss: 0.0223\n",
            "Epoch 30/50\n",
            "24/24 [==============================] - 0s 12ms/step - loss: 0.0215 - val_loss: 0.0206\n",
            "Epoch 31/50\n",
            "24/24 [==============================] - 0s 11ms/step - loss: 0.0199 - val_loss: 0.0190\n",
            "Epoch 32/50\n",
            "24/24 [==============================] - 0s 11ms/step - loss: 0.0184 - val_loss: 0.0176\n",
            "Epoch 33/50\n",
            "24/24 [==============================] - 0s 10ms/step - loss: 0.0170 - val_loss: 0.0164\n",
            "Epoch 34/50\n",
            "24/24 [==============================] - 0s 11ms/step - loss: 0.0159 - val_loss: 0.0153\n",
            "Epoch 35/50\n",
            "24/24 [==============================] - 0s 11ms/step - loss: 0.0148 - val_loss: 0.0142\n",
            "Epoch 36/50\n",
            "24/24 [==============================] - 0s 10ms/step - loss: 0.0138 - val_loss: 0.0133\n",
            "Epoch 37/50\n",
            "24/24 [==============================] - 0s 10ms/step - loss: 0.0129 - val_loss: 0.0125\n",
            "Epoch 38/50\n",
            "24/24 [==============================] - 0s 12ms/step - loss: 0.0121 - val_loss: 0.0117\n",
            "Epoch 39/50\n",
            "24/24 [==============================] - 0s 13ms/step - loss: 0.0114 - val_loss: 0.0110\n",
            "Epoch 40/50\n",
            "24/24 [==============================] - 0s 15ms/step - loss: 0.0107 - val_loss: 0.0104\n",
            "Epoch 41/50\n",
            "24/24 [==============================] - 0s 15ms/step - loss: 0.0101 - val_loss: 0.0098\n",
            "Epoch 42/50\n",
            "24/24 [==============================] - 0s 14ms/step - loss: 0.0096 - val_loss: 0.0093\n",
            "Epoch 43/50\n",
            "24/24 [==============================] - 0s 13ms/step - loss: 0.0090 - val_loss: 0.0088\n",
            "Epoch 44/50\n",
            "24/24 [==============================] - 0s 13ms/step - loss: 0.0086 - val_loss: 0.0083\n",
            "Epoch 45/50\n",
            "24/24 [==============================] - 0s 16ms/step - loss: 0.0081 - val_loss: 0.0079\n",
            "Epoch 46/50\n",
            "24/24 [==============================] - 0s 13ms/step - loss: 0.0077 - val_loss: 0.0075\n",
            "Epoch 47/50\n",
            "24/24 [==============================] - 0s 18ms/step - loss: 0.0073 - val_loss: 0.0071\n",
            "Epoch 48/50\n",
            "24/24 [==============================] - 0s 18ms/step - loss: 0.0070 - val_loss: 0.0068\n",
            "Epoch 49/50\n",
            "24/24 [==============================] - 0s 18ms/step - loss: 0.0066 - val_loss: 0.0065\n",
            "Epoch 50/50\n",
            "24/24 [==============================] - 0s 15ms/step - loss: 0.0063 - val_loss: 0.0062\n"
          ]
        },
        {
          "output_type": "execute_result",
          "data": {
            "text/plain": [
              "<keras.callbacks.History at 0x7fb328a99f50>"
            ]
          },
          "metadata": {},
          "execution_count": 186
        }
      ]
    },
    {
      "cell_type": "markdown",
      "source": [
        "lets visualise"
      ],
      "metadata": {
        "id": "Qt-PPfPJ8v_O"
      }
    },
    {
      "cell_type": "code",
      "source": [
        "# Encode and decode some digits\n",
        "# Note that we take them from the *test* set\n",
        "encoded_imgs = encoder.predict(x_test)\n",
        "decoded_imgs = decoder.predict(encoded_imgs)"
      ],
      "metadata": {
        "colab": {
          "base_uri": "https://localhost:8080/"
        },
        "id": "c5MhFUOa8tSS",
        "outputId": "37991608-3597-4d37-f61d-606f1aca3632"
      },
      "execution_count": 187,
      "outputs": [
        {
          "output_type": "stream",
          "name": "stdout",
          "text": [
            "32/32 [==============================] - 0s 1ms/step\n",
            "32/32 [==============================] - 0s 1ms/step\n"
          ]
        }
      ]
    },
    {
      "cell_type": "code",
      "source": [
        "# Use Matplotlib (don't ask)\n",
        "import matplotlib.pyplot as plt\n",
        "\n",
        "n = 10  # How many digits we will display\n",
        "plt.figure(figsize=(20, 4))\n",
        "for i in range(n):\n",
        "    # Display original\n",
        "    ax = plt.subplot(2, n, i + 1)\n",
        "    plt.plot(x_test[i])\n",
        "\n",
        "\n",
        "    # Display reconstruction\n",
        "    ax = plt.subplot(2, n, i + 1 + n)\n",
        "    plt.plot(decoded_imgs[i])\n",
        "\n",
        "plt.show()"
      ],
      "metadata": {
        "colab": {
          "base_uri": "https://localhost:8080/",
          "height": 268
        },
        "id": "X3PepYnU80su",
        "outputId": "d551811f-f560-479f-9b8a-4f5efa771e7b"
      },
      "execution_count": 189,
      "outputs": [
        {
          "output_type": "display_data",
          "data": {
            "text/plain": [
              "<Figure size 1440x288 with 20 Axes>"
            ],
            "image/png": "[encoded data removed]"
          },
          "metadata": {
            "needs_background": "light"
          }
        }
      ]
    },
    {
      "cell_type": "markdown",
      "source": [],
      "metadata": {
        "id": "IeadHo5V9OkU"
      }
    },
    {
      "cell_type": "code",
      "source": [],
      "metadata": {
        "id": "JdsfnZJM81kp"
      },
      "execution_count": null,
      "outputs": []
    }
  ]
}