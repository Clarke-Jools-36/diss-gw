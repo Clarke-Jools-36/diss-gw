{
  "nbformat": 4,
  "nbformat_minor": 0,
  "metadata": {
    "colab": {
      "provenance": [],
      "authorship_tag": "ABX9TyMmY5lO5uN328NOOfsiR2AQ",
      "include_colab_link": true
    },
    "kernelspec": {
      "name": "python3",
      "display_name": "Python 3"
    },
    "language_info": {
      "name": "python"
    },
    "widgets": {
      "application/vnd.jupyter.widget-state+json": {
        "af7f1031591a46cbac2e8285360d04e0": {
          "model_module": "@jupyter-widgets/controls",
          "model_name": "HBoxModel",
          "model_module_version": "1.5.0",
          "state": {
            "_dom_classes": [],
            "_model_module": "@jupyter-widgets/controls",
            "_model_module_version": "1.5.0",
            "_model_name": "HBoxModel",
            "_view_count": null,
            "_view_module": "@jupyter-widgets/controls",
            "_view_module_version": "1.5.0",
            "_view_name": "HBoxView",
            "box_style": "",
            "children": [
              "IPY_MODEL_8995cd6ee2084f8bb1423aa01ff07fc4",
              "IPY_MODEL_911f736b6e8940af8ab72b31542945ee",
              "IPY_MODEL_21cc7703e7c549eda3d7c5f19acbfbdd"
            ],
            "layout": "IPY_MODEL_3837be56e9d0482a9e0ddfc404705d0c"
          }
        },
        "8995cd6ee2084f8bb1423aa01ff07fc4": {
          "model_module": "@jupyter-widgets/controls",
          "model_name": "HTMLModel",
          "model_module_version": "1.5.0",
          "state": {
            "_dom_classes": [],
            "_model_module": "@jupyter-widgets/controls",
            "_model_module_version": "1.5.0",
            "_model_name": "HTMLModel",
            "_view_count": null,
            "_view_module": "@jupyter-widgets/controls",
            "_view_module_version": "1.5.0",
            "_view_name": "HTMLView",
            "description": "",
            "description_tooltip": null,
            "layout": "IPY_MODEL_520cfe2e3dfd44b389e53fb43189f8ff",
            "placeholder": "​",
            "style": "IPY_MODEL_08c4bee9826b42ed8d0ef462c95a0c0e",
            "value": "  8%"
          }
        },
        "911f736b6e8940af8ab72b31542945ee": {
          "model_module": "@jupyter-widgets/controls",
          "model_name": "FloatProgressModel",
          "model_module_version": "1.5.0",
          "state": {
            "_dom_classes": [],
            "_model_module": "@jupyter-widgets/controls",
            "_model_module_version": "1.5.0",
            "_model_name": "FloatProgressModel",
            "_view_count": null,
            "_view_module": "@jupyter-widgets/controls",
            "_view_module_version": "1.5.0",
            "_view_name": "ProgressView",
            "bar_style": "",
            "description": "",
            "description_tooltip": null,
            "layout": "IPY_MODEL_b6a63375750448d9a41d4a14c6857148",
            "max": 60000,
            "min": 0,
            "orientation": "horizontal",
            "style": "IPY_MODEL_52c28fc9674e4fe3922db281291180d0",
            "value": 4548
          }
        },
        "21cc7703e7c549eda3d7c5f19acbfbdd": {
          "model_module": "@jupyter-widgets/controls",
          "model_name": "HTMLModel",
          "model_module_version": "1.5.0",
          "state": {
            "_dom_classes": [],
            "_model_module": "@jupyter-widgets/controls",
            "_model_module_version": "1.5.0",
            "_model_name": "HTMLModel",
            "_view_count": null,
            "_view_module": "@jupyter-widgets/controls",
            "_view_module_version": "1.5.0",
            "_view_name": "HTMLView",
            "description": "",
            "description_tooltip": null,
            "layout": "IPY_MODEL_998ba3051d8f42f69d0be87a9d8fb3df",
            "placeholder": "​",
            "style": "IPY_MODEL_f09ed89b52364fa4a9339ebf29a5dd6c",
            "value": " 4548/60000 [00:19&lt;03:15, 283.84it/s]"
          }
        },
        "3837be56e9d0482a9e0ddfc404705d0c": {
          "model_module": "@jupyter-widgets/base",
          "model_name": "LayoutModel",
          "model_module_version": "1.2.0",
          "state": {
            "_model_module": "@jupyter-widgets/base",
            "_model_module_version": "1.2.0",
            "_model_name": "LayoutModel",
            "_view_count": null,
            "_view_module": "@jupyter-widgets/base",
            "_view_module_version": "1.2.0",
            "_view_name": "LayoutView",
            "align_content": null,
            "align_items": null,
            "align_self": null,
            "border": null,
            "bottom": null,
            "display": null,
            "flex": null,
            "flex_flow": null,
            "grid_area": null,
            "grid_auto_columns": null,
            "grid_auto_flow": null,
            "grid_auto_rows": null,
            "grid_column": null,
            "grid_gap": null,
            "grid_row": null,
            "grid_template_areas": null,
            "grid_template_columns": null,
            "grid_template_rows": null,
            "height": null,
            "justify_content": null,
            "justify_items": null,
            "left": null,
            "margin": null,
            "max_height": null,
            "max_width": null,
            "min_height": null,
            "min_width": null,
            "object_fit": null,
            "object_position": null,
            "order": null,
            "overflow": null,
            "overflow_x": null,
            "overflow_y": null,
            "padding": null,
            "right": null,
            "top": null,
            "visibility": null,
            "width": null
          }
        },
        "520cfe2e3dfd44b389e53fb43189f8ff": {
          "model_module": "@jupyter-widgets/base",
          "model_name": "LayoutModel",
          "model_module_version": "1.2.0",
          "state": {
            "_model_module": "@jupyter-widgets/base",
            "_model_module_version": "1.2.0",
            "_model_name": "LayoutModel",
            "_view_count": null,
            "_view_module": "@jupyter-widgets/base",
            "_view_module_version": "1.2.0",
            "_view_name": "LayoutView",
            "align_content": null,
            "align_items": null,
            "align_self": null,
            "border": null,
            "bottom": null,
            "display": null,
            "flex": null,
            "flex_flow": null,
            "grid_area": null,
            "grid_auto_columns": null,
            "grid_auto_flow": null,
            "grid_auto_rows": null,
            "grid_column": null,
            "grid_gap": null,
            "grid_row": null,
            "grid_template_areas": null,
            "grid_template_columns": null,
            "grid_template_rows": null,
            "height": null,
            "justify_content": null,
            "justify_items": null,
            "left": null,
            "margin": null,
            "max_height": null,
            "max_width": null,
            "min_height": null,
            "min_width": null,
            "object_fit": null,
            "object_position": null,
            "order": null,
            "overflow": null,
            "overflow_x": null,
            "overflow_y": null,
            "padding": null,
            "right": null,
            "top": null,
            "visibility": null,
            "width": null
          }
        },
        "08c4bee9826b42ed8d0ef462c95a0c0e": {
          "model_module": "@jupyter-widgets/controls",
          "model_name": "DescriptionStyleModel",
          "model_module_version": "1.5.0",
          "state": {
            "_model_module": "@jupyter-widgets/controls",
            "_model_module_version": "1.5.0",
            "_model_name": "DescriptionStyleModel",
            "_view_count": null,
            "_view_module": "@jupyter-widgets/base",
            "_view_module_version": "1.2.0",
            "_view_name": "StyleView",
            "description_width": ""
          }
        },
        "b6a63375750448d9a41d4a14c6857148": {
          "model_module": "@jupyter-widgets/base",
          "model_name": "LayoutModel",
          "model_module_version": "1.2.0",
          "state": {
            "_model_module": "@jupyter-widgets/base",
            "_model_module_version": "1.2.0",
            "_model_name": "LayoutModel",
            "_view_count": null,
            "_view_module": "@jupyter-widgets/base",
            "_view_module_version": "1.2.0",
            "_view_name": "LayoutView",
            "align_content": null,
            "align_items": null,
            "align_self": null,
            "border": null,
            "bottom": null,
            "display": null,
            "flex": null,
            "flex_flow": null,
            "grid_area": null,
            "grid_auto_columns": null,
            "grid_auto_flow": null,
            "grid_auto_rows": null,
            "grid_column": null,
            "grid_gap": null,
            "grid_row": null,
            "grid_template_areas": null,
            "grid_template_columns": null,
            "grid_template_rows": null,
            "height": null,
            "justify_content": null,
            "justify_items": null,
            "left": null,
            "margin": null,
            "max_height": null,
            "max_width": null,
            "min_height": null,
            "min_width": null,
            "object_fit": null,
            "object_position": null,
            "order": null,
            "overflow": null,
            "overflow_x": null,
            "overflow_y": null,
            "padding": null,
            "right": null,
            "top": null,
            "visibility": null,
            "width": null
          }
        },
        "52c28fc9674e4fe3922db281291180d0": {
          "model_module": "@jupyter-widgets/controls",
          "model_name": "ProgressStyleModel",
          "model_module_version": "1.5.0",
          "state": {
            "_model_module": "@jupyter-widgets/controls",
            "_model_module_version": "1.5.0",
            "_model_name": "ProgressStyleModel",
            "_view_count": null,
            "_view_module": "@jupyter-widgets/base",
            "_view_module_version": "1.2.0",
            "_view_name": "StyleView",
            "bar_color": null,
            "description_width": ""
          }
        },
        "998ba3051d8f42f69d0be87a9d8fb3df": {
          "model_module": "@jupyter-widgets/base",
          "model_name": "LayoutModel",
          "model_module_version": "1.2.0",
          "state": {
            "_model_module": "@jupyter-widgets/base",
            "_model_module_version": "1.2.0",
            "_model_name": "LayoutModel",
            "_view_count": null,
            "_view_module": "@jupyter-widgets/base",
            "_view_module_version": "1.2.0",
            "_view_name": "LayoutView",
            "align_content": null,
            "align_items": null,
            "align_self": null,
            "border": null,
            "bottom": null,
            "display": null,
            "flex": null,
            "flex_flow": null,
            "grid_area": null,
            "grid_auto_columns": null,
            "grid_auto_flow": null,
            "grid_auto_rows": null,
            "grid_column": null,
            "grid_gap": null,
            "grid_row": null,
            "grid_template_areas": null,
            "grid_template_columns": null,
            "grid_template_rows": null,
            "height": null,
            "justify_content": null,
            "justify_items": null,
            "left": null,
            "margin": null,
            "max_height": null,
            "max_width": null,
            "min_height": null,
            "min_width": null,
            "object_fit": null,
            "object_position": null,
            "order": null,
            "overflow": null,
            "overflow_x": null,
            "overflow_y": null,
            "padding": null,
            "right": null,
            "top": null,
            "visibility": null,
            "width": null
          }
        },
        "f09ed89b52364fa4a9339ebf29a5dd6c": {
          "model_module": "@jupyter-widgets/controls",
          "model_name": "DescriptionStyleModel",
          "model_module_version": "1.5.0",
          "state": {
            "_model_module": "@jupyter-widgets/controls",
            "_model_module_version": "1.5.0",
            "_model_name": "DescriptionStyleModel",
            "_view_count": null,
            "_view_module": "@jupyter-widgets/base",
            "_view_module_version": "1.2.0",
            "_view_name": "StyleView",
            "description_width": ""
          }
        }
      }
    }
  },
  "cells": [
    {
      "cell_type": "markdown",
      "metadata": {
        "id": "view-in-github",
        "colab_type": "text"
      },
      "source": [
        "<a href=\"https://colab.research.google.com/github/Clarke-Jools-36/diss-gw/blob/main/generate_test_data.ipynb\" target=\"_parent\"><img src=\"https://colab.research.google.com/assets/colab-badge.svg\" alt=\"Open In Colab\"/></a>"
      ]
    },
    {
      "cell_type": "code",
      "execution_count": 1,
      "metadata": {
        "id": "REt368rIBR2S"
      },
      "outputs": [],
      "source": [
        "import numpy as np\n",
        "from tqdm.notebook import tqdm #this puts loading bars onto for loops "
      ]
    },
    {
      "cell_type": "code",
      "source": [
        "def blip(seed = None):\n",
        "  if seed == None:\n",
        "    seed = np.random.randint(0,999999)\n",
        "  np.random.seed(seed)\n",
        "\n",
        "\n",
        "  t = np.linspace(0,1,1024) #create an array of time between 0 and 1 second with 1024 samples\n",
        "  a = np.zeros_like(t) #create an array of zeros to populate with amplitude values\n",
        "  A,B,C,D,b,c = 0,0.01,((np.random.rand()-0.5)),0,0.03 + (0.05*(np.random.rand()-0.5)),0.5 + (0.5*(np.random.rand()-0.5))\n",
        "\n",
        "  randomA = (0.5*(np.random.rand()-0.5)) #maximum amplitude\n",
        "\n",
        "  for i,t_ in enumerate(t):\n",
        "    A = randomA * np.e**( -((t_-c)**2 / b) ) #setting amplidude to bell curve\n",
        "    a[i] = A * np.sin( (1/B) * (t_ - C) ) + D\n",
        "\n",
        "  return {\"data\":{\"time\":t,\"amplitude\":a},\"seed\":seed}"
      ],
      "metadata": {
        "id": "BBeMWOIQBjk9"
      },
      "execution_count": 2,
      "outputs": []
    },
    {
      "cell_type": "code",
      "source": [
        "def wave(seed = None):\n",
        "  if seed == None:\n",
        "    seed = np.random.randint(0,999999)\n",
        "  np.random.seed(seed)\n",
        "\n",
        "\n",
        "  t = np.linspace(0,1,1024) #create an array of time between 0 and 1 second with 1024 samples\n",
        "  a = np.zeros_like(t) #create an array of zeros to populate with amplitude values\n",
        "\n",
        "  A,B,C,D,b,c,d = 0,0.01,((np.random.rand()-0.5)),0,2 + ((np.random.rand()-0.5)),0.005 + (0.001*(np.random.rand()-0.5)),5\n",
        "\n",
        "  randomA = (0.5*(np.random.rand()-0.5)) #maximum amplitude\n",
        "\n",
        "  for i,t_ in enumerate(t):\n",
        "    if 0<t_<0.75+C/2:\n",
        "      A = randomA * 2*t_**5 # amplitude increases with polynomial 5\n",
        "      B = 0.005/t_**5 #freq increases\n",
        "    else:\n",
        "      A = 0\n",
        "\n",
        "    a[i] = A * np.sin( (1/B) * (t_ - C) ) + D\n",
        "\n",
        "  return {\"data\":{\"time\":t,\"amplitude\":a},\"seed\":seed}"
      ],
      "metadata": {
        "id": "dN61jX0_BkaN"
      },
      "execution_count": 3,
      "outputs": []
    },
    {
      "cell_type": "code",
      "source": [
        "x_train = np.zeros([60000,1024])\n",
        "x_test = np.zeros([10000,1024])\n",
        "\n",
        "print(f\"generating train data, expect {len(x_train)} vals\")\n",
        "for i, _ in tqdm(enumerate(x_train), total = len(x_train)):\n",
        "  x_train[i] = blip()[\"data\"][\"amplitude\"]\n",
        "\n",
        "print(f\"generating test data, expect {len(x_test)} vals\")\n",
        "for i, _ in tqdm(enumerate(x_test), total = len(x_test)):\n",
        "  x_test[i] = blip()[\"data\"][\"amplitude\"]"
      ],
      "metadata": {
        "colab": {
          "base_uri": "https://localhost:8080/",
          "height": 66,
          "referenced_widgets": [
            "af7f1031591a46cbac2e8285360d04e0",
            "8995cd6ee2084f8bb1423aa01ff07fc4",
            "911f736b6e8940af8ab72b31542945ee",
            "21cc7703e7c549eda3d7c5f19acbfbdd",
            "3837be56e9d0482a9e0ddfc404705d0c",
            "520cfe2e3dfd44b389e53fb43189f8ff",
            "08c4bee9826b42ed8d0ef462c95a0c0e",
            "b6a63375750448d9a41d4a14c6857148",
            "52c28fc9674e4fe3922db281291180d0",
            "998ba3051d8f42f69d0be87a9d8fb3df",
            "f09ed89b52364fa4a9339ebf29a5dd6c"
          ]
        },
        "id": "sXl1IwjmBm-m",
        "outputId": "cf436c97-0c40-46b6-accc-2fe34e1794f5"
      },
      "execution_count": null,
      "outputs": [
        {
          "output_type": "stream",
          "name": "stdout",
          "text": [
            "generating train data, expect 60000 vals\n"
          ]
        },
        {
          "output_type": "display_data",
          "data": {
            "text/plain": [
              "  0%|          | 0/60000 [00:00<?, ?it/s]"
            ],
            "application/vnd.jupyter.widget-view+json": {
              "version_major": 2,
              "version_minor": 0,
              "model_id": "af7f1031591a46cbac2e8285360d04e0"
            }
          },
          "metadata": {}
        }
      ]
    },
    {
      "cell_type": "code",
      "source": [
        "np.savez(\"test_blip_data\", blip_train = x_train, blip_test = x_test )"
      ],
      "metadata": {
        "id": "oGdI9bN4Btom"
      },
      "execution_count": null,
      "outputs": []
    }
  ]
}